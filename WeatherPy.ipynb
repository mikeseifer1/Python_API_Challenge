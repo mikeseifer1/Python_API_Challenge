{
 "cells": [
  {
   "cell_type": "markdown",
   "metadata": {},
   "source": [
    "# WeatherPy\n",
    "----\n",
    "\n",
    "#### Note\n",
    "* Instructions have been included for each segment. You do not have to follow them exactly, but they are included to help you think through the steps."
   ]
  },
  {
   "cell_type": "code",
   "execution_count": 1,
   "metadata": {
    "scrolled": true
   },
   "outputs": [],
   "source": [
    "# Dependencies and Setup\n",
    "import matplotlib.pyplot as plt\n",
    "import pandas as pd\n",
    "import numpy as np\n",
    "import requests\n",
    "import time\n",
    "from scipy.stats import linregress\n",
    "from pprint import pprint\n",
    "# Import API key\n",
    "from api_keys import weather_api_key\n",
    "\n",
    "# Incorporated citipy to determine city based on latitude and longitude\n",
    "from citipy import citipy\n",
    "\n",
    "# Output File (CSV)\n",
    "output_data_file = \"output_data/cities.csv\"\n",
    "\n",
    "# Range of latitudes and longitudes\n",
    "lat_range = (-90, 90)\n",
    "lng_range = (-180, 180)"
   ]
  },
  {
   "cell_type": "markdown",
   "metadata": {},
   "source": [
    "## Generate Cities List"
   ]
  },
  {
   "cell_type": "code",
   "execution_count": 2,
   "metadata": {},
   "outputs": [
    {
     "data": {
      "text/plain": [
       "595"
      ]
     },
     "execution_count": 2,
     "metadata": {},
     "output_type": "execute_result"
    }
   ],
   "source": [
    "# List for holding lat_lngs and cities\n",
    "lat_lngs = []\n",
    "cities = []\n",
    "\n",
    "# Create a set of random lat and lng combinations\n",
    "lats = np.random.uniform(lat_range[0], lat_range[1], size=1500)\n",
    "lngs = np.random.uniform(lng_range[0], lng_range[1], size=1500)\n",
    "lat_lngs = zip(lats, lngs)\n",
    "\n",
    "# Identify nearest city for each lat, lng combination\n",
    "for lat_lng in lat_lngs:\n",
    "    city = citipy.nearest_city(lat_lng[0], lat_lng[1]).city_name\n",
    "    \n",
    "    # If the city is unique, then add it to a our cities list\n",
    "    if city not in cities:\n",
    "        cities.append(city)\n",
    "\n",
    "# Print the city count to confirm sufficient count\n",
    "len(cities)"
   ]
  },
  {
   "cell_type": "markdown",
   "metadata": {},
   "source": [
    "### Perform API Calls\n",
    "* Perform a weather check on each city using a series of successive API calls.\n",
    "* Include a print log of each city as it'sbeing processed (with the city number and city name).\n"
   ]
  },
  {
   "cell_type": "code",
   "execution_count": null,
   "metadata": {},
   "outputs": [],
   "source": []
  },
  {
   "cell_type": "code",
   "execution_count": 3,
   "metadata": {},
   "outputs": [],
   "source": [
    "Name = []\n",
    "Lat = []\n",
    "Lng = []\n",
    "Max_temp = []\n",
    "Humidity = []\n",
    "Cloudiness = []\n",
    "Wind_Speed = []\n",
    "country = []\n",
    "Date = []\n"
   ]
  },
  {
   "cell_type": "code",
   "execution_count": null,
   "metadata": {},
   "outputs": [],
   "source": []
  },
  {
   "cell_type": "code",
   "execution_count": 4,
   "metadata": {
    "scrolled": false
   },
   "outputs": [
    {
     "name": "stdout",
     "output_type": "stream",
     "text": [
      "Name not found\n",
      "The citi name is Maniago and the citi number is 3174084\n",
      "The citi name is Yangi Marg`ilon and the citi number is 1513491\n",
      "The citi name is Waddān and the citi number is 2209055\n",
      "The citi name is Ribeira Grande and the citi number is 3372707\n",
      "The citi name is Tasiilaq and the citi number is 3424607\n",
      "The citi name is Okha and the citi number is 2122614\n",
      "The citi name is Acapulco de Juárez and the citi number is 3533462\n",
      "The citi name is San Quintín and the citi number is 3984997\n",
      "The citi name is Ushuaia and the citi number is 3833367\n",
      "The citi name is Bilma and the citi number is 2446796\n",
      "The citi name is Hamilton and the citi number is 4513583\n",
      "The citi name is Lagoa and the citi number is 3372964\n",
      "The citi name is Grindavik and the citi number is 3416888\n",
      "The citi name is Saldanha and the citi number is 3361934\n",
      "The citi name is Yellowknife and the citi number is 6185377\n",
      "The citi name is East London and the citi number is 1006984\n",
      "The citi name is Bredasdorp and the citi number is 1015776\n",
      "The citi name is Hermanus and the citi number is 3366880\n",
      "The citi name is Vila Velha and the citi number is 3445026\n",
      "The citi name is Lebu and the citi number is 3883457\n",
      "Name not found\n",
      "The citi name is Barentu and the citi number is 342711\n",
      "The citi name is Kapaa and the citi number is 5848280\n",
      "The citi name is Torbay and the citi number is 6167817\n",
      "The citi name is Vao and the citi number is 2137773\n",
      "The citi name is Castro and the citi number is 3466704\n",
      "Name not found\n",
      "The citi name is Rikitea and the citi number is 4030556\n",
      "The citi name is Tevaitoa and the citi number is 4033375\n",
      "The citi name is Horta and the citi number is 3372988\n",
      "The citi name is Ponte Nova and the citi number is 3453078\n",
      "The citi name is Mataura and the citi number is 6201424\n",
      "The citi name is Inuvik and the citi number is 5983607\n",
      "The citi name is Busselton and the citi number is 2075265\n",
      "The citi name is Mar del Plata and the citi number is 3430863\n",
      "Name not found\n",
      "The citi name is Punta Arenas and the citi number is 3874787\n",
      "The citi name is Arraial do Cabo and the citi number is 3471451\n",
      "The citi name is At-Bashi and the citi number is 1528796\n",
      "The citi name is Bluff and the citi number is 2206939\n",
      "The citi name is Barrow and the citi number is 5880054\n",
      "The citi name is Kathua and the citi number is 1267486\n",
      "The citi name is Port Alfred and the citi number is 964432\n",
      "The citi name is Kawalu and the citi number is 1640902\n",
      "The citi name is Sinnamary and the citi number is 3380290\n",
      "The citi name is Albany and the citi number is 5106841\n",
      "Name not found\n",
      "The citi name is Hambantota and the citi number is 1244926\n",
      "Name not found\n",
      "The citi name is Muscle Shoals and the citi number is 4078964\n",
      "The citi name is Launceston and the citi number is 2160517\n",
      "The citi name is Palembang and the citi number is 1633070\n",
      "The citi name is Stolin and the citi number is 621277\n",
      "The citi name is Port Lincoln and the citi number is 2063036\n",
      "The citi name is Alyangula and the citi number is 2079582\n",
      "The citi name is Upernavik and the citi number is 3418910\n",
      "Name not found\n",
      "The citi name is Hilo and the citi number is 5855927\n",
      "The citi name is Ostrovnoy and the citi number is 556268\n",
      "The citi name is Butaritari and the citi number is 2110227\n",
      "The citi name is Sungai Penuh and the citi number is 1625929\n",
      "The citi name is Chokurdakh and the citi number is 2126123\n",
      "The citi name is Cabedelo and the citi number is 3404558\n",
      "The citi name is Nikolskoye and the citi number is 546105\n",
      "The citi name is Nome and the citi number is 5870133\n",
      "The citi name is Hobart and the citi number is 2163355\n",
      "The citi name is Faya and the citi number is 110690\n",
      "The citi name is Wajid and the citi number is 50814\n",
      "The citi name is New Norfolk and the citi number is 2155415\n",
      "The citi name is Sondershausen and the citi number is 2831276\n",
      "The citi name is Port Elizabeth and the citi number is 964420\n",
      "The citi name is Bathsheba and the citi number is 3374083\n",
      "The citi name is Faanui and the citi number is 4034551\n",
      "Name not found\n",
      "The citi name is Longyearbyen and the citi number is 2729907\n",
      "The citi name is Baruun-Urt and the citi number is 2032614\n",
      "The citi name is Sal Rei and the citi number is 3374235\n",
      "The citi name is Okahandja and the citi number is 3354898\n",
      "The citi name is Seoul and the citi number is 1835848\n",
      "The citi name is Susanville and the citi number is 5572400\n",
      "The citi name is Palmares do Sul and the citi number is 3455461\n",
      "The citi name is Yazd and the citi number is 111822\n",
      "The citi name is Coquimbo and the citi number is 3893629\n",
      "The citi name is Cape Town and the citi number is 3369157\n",
      "The citi name is Vardø and the citi number is 777019\n",
      "The citi name is Iqaluit and the citi number is 5983720\n",
      "The citi name is Ixtapa and the citi number is 4004293\n",
      "The citi name is George Town and the citi number is 1735106\n",
      "The citi name is Tilichiki and the citi number is 2120591\n",
      "The citi name is Batagay-Alyta and the citi number is 2027042\n",
      "The citi name is Esperance and the citi number is 2071860\n",
      "The citi name is Vaini and the citi number is 4032243\n",
      "The citi name is Cherskiy and the citi number is 2126199\n",
      "The citi name is Bengkulu and the citi number is 1649150\n",
      "Name not found\n",
      "The citi name is Porangatu and the citi number is 3453014\n",
      "The citi name is Taoudenni and the citi number is 2450173\n",
      "The citi name is Vizinga and the citi number is 473263\n",
      "The citi name is The Valley and the citi number is 3573374\n",
      "The citi name is Puerto Ayora and the citi number is 3652764\n",
      "The citi name is Brae and the citi number is 2654970\n",
      "The citi name is Bethel and the citi number is 5282297\n",
      "The citi name is Burē and the citi number is 341397\n",
      "The citi name is Qaanaaq and the citi number is 3831208\n",
      "The citi name is Salalah and the citi number is 286621\n",
      "Name not found\n",
      "The citi name is Huambo and the citi number is 3348313\n",
      "The citi name is Rūdbār and the citi number is 1128239\n",
      "The citi name is Leningradskiy and the citi number is 2123814\n",
      "The citi name is Port Augusta and the citi number is 2063056\n",
      "The citi name is Río Cuarto and the citi number is 3838874\n",
      "Name not found\n",
      "The citi name is Cap Malheureux and the citi number is 934649\n",
      "The citi name is Kavaratti and the citi number is 1267390\n",
      "The citi name is Mrakovo and the citi number is 524681\n",
      "The citi name is Bambous Virieux and the citi number is 1106677\n",
      "The citi name is Geraldton and the citi number is 2070998\n",
      "The citi name is Kumul and the citi number is 1529484\n",
      "The citi name is Nurota and the citi number is 1513087\n",
      "The citi name is Tlachichuca and the citi number is 3515496\n",
      "The citi name is Bastrop and the citi number is 4315535\n",
      "The citi name is Qixingtai and the citi number is 7696232\n",
      "The citi name is Sevsk and the citi number is 496246\n",
      "The citi name is Evensk and the citi number is 2125693\n",
      "The citi name is Provideniya and the citi number is 4031574\n",
      "The citi name is Pangnirtung and the citi number is 6096551\n",
      "The citi name is Rāvar and the citi number is 118704\n",
      "The citi name is Severo-Kuril'sk and the citi number is 2121385\n",
      "The citi name is Hithadhoo and the citi number is 1282256\n",
      "The citi name is Srednekolymsk and the citi number is 2121025\n",
      "The citi name is Blackwater and the citi number is 2175403\n",
      "Name not found\n",
      "The citi name is Ponta do Sol and the citi number is 2264557\n",
      "The citi name is Kaitangata and the citi number is 2208248\n",
      "The citi name is Caravelas and the citi number is 3466980\n",
      "The citi name is Langsa and the citi number is 1214724\n",
      "The citi name is Atuona and the citi number is 4020109\n",
      "The citi name is Dunedin and the citi number is 2191562\n",
      "Name not found\n",
      "The citi name is Katherine and the citi number is 2068655\n",
      "The citi name is Airai and the citi number is 1651810\n",
      "The citi name is Taltal and the citi number is 3870243\n",
      "The citi name is Baculin and the citi number is 1729469\n",
      "The citi name is Road Town and the citi number is 3577430\n",
      "The citi name is Dikson and the citi number is 1507390\n",
      "The citi name is Turukhansk and the citi number is 1488903\n",
      "The citi name is Jamestown and the citi number is 5122534\n",
      "The citi name is Kumla and the citi number is 2698767\n",
      "The citi name is Vestmannaeyjar and the citi number is 3412093\n",
      "The citi name is Tiksi and the citi number is 2015306\n",
      "The citi name is Hasaki and the citi number is 2112802\n",
      "The citi name is Garmsār and the citi number is 133964\n",
      "The citi name is Sehithwa and the citi number is 933109\n"
     ]
    },
    {
     "name": "stdout",
     "output_type": "stream",
     "text": [
      "The citi name is Klaksvík and the citi number is 2618795\n",
      "The citi name is Kannur and the citi number is 1274987\n",
      "The citi name is Tsabong and the citi number is 932987\n",
      "The citi name is Río Tercero and the citi number is 3838793\n",
      "Name not found\n",
      "The citi name is Mahon and the citi number is 2514301\n",
      "Name not found\n",
      "The citi name is Carnarvon and the citi number is 2074865\n",
      "The citi name is Cayenne and the citi number is 3382160\n",
      "Name not found\n",
      "The citi name is Karratha and the citi number is 6620339\n",
      "The citi name is Kununurra and the citi number is 2068110\n",
      "The citi name is Atar and the citi number is 2381334\n",
      "The citi name is Mahébourg and the citi number is 934322\n",
      "The citi name is Fallon and the citi number is 5503914\n",
      "The citi name is Camacha and the citi number is 2270385\n",
      "The citi name is Adrar and the citi number is 2381972\n",
      "The citi name is Aleksandriyskaya and the citi number is 583368\n",
      "The citi name is Barranca and the citi number is 3946820\n",
      "The citi name is Mount Gambier and the citi number is 2156643\n",
      "The citi name is Lake Shasta and the citi number is 5571109\n",
      "The citi name is Gore and the citi number is 6201424\n",
      "The citi name is Belmonte and the citi number is 3470137\n",
      "The citi name is Ihosy and the citi number is 1064275\n",
      "The citi name is Fort Nelson and the citi number is 5955902\n",
      "The citi name is Norman Wells and the citi number is 6089245\n",
      "The citi name is Clyde River and the citi number is 5924351\n",
      "The citi name is Mokhotlong and the citi number is 932416\n",
      "The citi name is Richards Bay and the citi number is 962367\n",
      "The citi name is Elliot and the citi number is 1005781\n",
      "The citi name is Talnakh and the citi number is 1490256\n",
      "The citi name is Sechura and the citi number is 3691954\n",
      "The citi name is Katsuura and the citi number is 2112309\n",
      "The citi name is Lima and the citi number is 3936456\n",
      "The citi name is San Cristobal and the citi number is 3628473\n",
      "The citi name is Gravelbourg and the citi number is 5965462\n",
      "The citi name is Port Blair and the citi number is 1259385\n",
      "The citi name is Saint-Philippe and the citi number is 935215\n",
      "The citi name is Sistranda and the citi number is 3139597\n",
      "The citi name is Camacupa and the citi number is 3351014\n",
      "The citi name is Mananara and the citi number is 1061412\n",
      "The citi name is Narsaq and the citi number is 3421719\n",
      "The citi name is Porbandar and the citi number is 1259395\n",
      "The citi name is Pisco and the citi number is 3932145\n",
      "Name not found\n",
      "The citi name is Heraclea and the citi number is 315498\n",
      "The citi name is Nikolayevka and the citi number is 521966\n",
      "The citi name is Egvekinot and the citi number is 4031742\n",
      "The citi name is Callaguip and the citi number is 1720223\n",
      "The citi name is Noumea and the citi number is 2139521\n",
      "The citi name is Chui and the citi number is 3443061\n",
      "The citi name is Conakry and the citi number is 2422465\n",
      "The citi name is Alofi and the citi number is 4036284\n",
      "The citi name is Ulaanbaatar and the citi number is 2028462\n",
      "Name not found\n",
      "The citi name is Ust-Nera and the citi number is 2120048\n",
      "Name not found\n",
      "The citi name is La Ronge and the citi number is 6050066\n",
      "The citi name is Florianópolis and the citi number is 6323121\n",
      "The citi name is Ust-Tsilma and the citi number is 477940\n",
      "The citi name is Poso and the citi number is 1630723\n",
      "The citi name is Kavieng and the citi number is 2094342\n",
      "The citi name is Lorengau and the citi number is 2092164\n",
      "The citi name is Tawang Town and the citi number is 1254832\n",
      "The citi name is Los Llanos de Aridane and the citi number is 2514651\n",
      "The citi name is Khatanga and the citi number is 2022572\n",
      "The citi name is Talas and the citi number is 299900\n",
      "Name not found\n",
      "The citi name is Asău and the citi number is 686090\n",
      "The citi name is Denpasar and the citi number is 1645528\n",
      "The citi name is Saint Paul Harbor and the citi number is 5866583\n",
      "The citi name is Makarov and the citi number is 2123614\n",
      "The citi name is Winona and the citi number is 5053164\n",
      "The citi name is Constitución and the citi number is 3893726\n",
      "The citi name is Tuatapere and the citi number is 2180815\n",
      "The citi name is Waipawa and the citi number is 2206874\n",
      "The citi name is Itarema and the citi number is 3393692\n",
      "The citi name is Katangli and the citi number is 2122783\n",
      "The citi name is Portland and the citi number is 5746545\n",
      "The citi name is Griffith and the citi number is 4920986\n",
      "The citi name is Sorong and the citi number is 1626542\n",
      "The citi name is Basco and the citi number is 1726449\n",
      "The citi name is Marabu and the citi number is 1738050\n",
      "The citi name is Marawi and the citi number is 1701054\n",
      "The citi name is Harper and the citi number is 2276492\n",
      "The citi name is Kavos and the citi number is 256824\n",
      "Name not found\n",
      "The citi name is Banjarmasin and the citi number is 1650213\n",
      "The citi name is Yārāda and the citi number is 1252783\n",
      "The citi name is Aykhal and the citi number is 2027296\n",
      "The citi name is El Cocuy and the citi number is 3684510\n",
      "Name not found\n",
      "The citi name is Beloha and the citi number is 1067565\n",
      "The citi name is Ekhabi and the citi number is 2122614\n",
      "The citi name is Philadelphia and the citi number is 4560349\n",
      "The citi name is Socorro and the citi number is 5530932\n",
      "The citi name is Tuktoyaktuk and the citi number is 6170031\n",
      "The citi name is Mogzon and the citi number is 2019884\n",
      "The citi name is Puro and the citi number is 1692364\n",
      "The citi name is Suntar and the citi number is 2015913\n",
      "The citi name is Hong Kong and the citi number is 1819729\n",
      "The citi name is General Roca and the citi number is 3855065\n",
      "The citi name is Arlit and the citi number is 2447513\n",
      "The citi name is Stromness and the citi number is 2636638\n",
      "The citi name is Nioki and the citi number is 2311968\n",
      "The citi name is Mbuji-Mayi and the citi number is 209228\n",
      "The citi name is Cabo San Lucas and the citi number is 3985710\n",
      "The citi name is Jumla and the citi number is 1283285\n",
      "The citi name is Fare and the citi number is 4034496\n",
      "The citi name is Martapura and the citi number is 1636022\n",
      "Name not found\n",
      "Name not found\n",
      "The citi name is Tocopilla and the citi number is 3869716\n",
      "The citi name is Avarua and the citi number is 4035715\n",
      "The citi name is Zvishavane and the citi number is 878549\n",
      "The citi name is Davila and the citi number is 1715335\n",
      "Name not found\n",
      "The citi name is Llanes and the citi number is 3118304\n",
      "The citi name is Amapá and the citi number is 3407762\n",
      "The citi name is Vestmanna and the citi number is 2610343\n",
      "The citi name is Tucuruí and the citi number is 3385935\n",
      "The citi name is Dombarovskiy and the citi number is 565407\n",
      "The citi name is Karla and the citi number is 590447\n",
      "Name not found\n",
      "The citi name is Tigre and the citi number is 3427761\n",
      "The citi name is Ilulissat and the citi number is 3423146\n",
      "The citi name is Doembang Nangbuat and the citi number is 1610911\n",
      "The citi name is Thompson and the citi number is 6165406\n",
      "The citi name is Azul and the citi number is 3436199\n",
      "The citi name is Morden and the citi number is 6078447\n",
      "The citi name is Buraidah and the citi number is 107304\n",
      "The citi name is Sitka and the citi number is 5557293\n",
      "The citi name is Kisangani and the citi number is 212730\n",
      "The citi name is Nouadhibou and the citi number is 2377457\n",
      "The citi name is Erenhot and the citi number is 2037485\n",
      "The citi name is Padang and the citi number is 1633419\n",
      "The citi name is Nhulunbuy and the citi number is 2064735\n",
      "The citi name is Khandyga and the citi number is 2022773\n",
      "The citi name is Thanh Hoa and the citi number is 1566166\n",
      "The citi name is Eidsvåg and the citi number is 3158615\n",
      "The citi name is Sioux Lookout and the citi number is 6148373\n",
      "The citi name is Saskylakh and the citi number is 2017155\n",
      "The citi name is Kekri and the citi number is 1267336\n",
      "The citi name is Lüderitz and the citi number is 3355672\n",
      "The citi name is Kahului and the citi number is 5847411\n",
      "The citi name is Teahupoo and the citi number is 4033543\n",
      "The citi name is Sisimiut and the citi number is 3419842\n",
      "The citi name is Lavrentiya and the citi number is 4031637\n",
      "The citi name is Tutóia and the citi number is 3385899\n",
      "The citi name is Benghazi and the citi number is 88319\n",
      "The citi name is Pirgos and the citi number is 261814\n",
      "Name not found\n",
      "The citi name is Hauknes and the citi number is 3153517\n",
      "The citi name is Tura and the citi number is 1254046\n",
      "The citi name is Port-Gentil and the citi number is 2396518\n"
     ]
    },
    {
     "name": "stdout",
     "output_type": "stream",
     "text": [
      "The citi name is Nakambala and the citi number is 902344\n",
      "The citi name is Östersund and the citi number is 2685750\n",
      "The citi name is San Carlos and the citi number is 3628503\n",
      "The citi name is Pokhara and the citi number is 1282898\n",
      "The citi name is De Aar and the citi number is 1011632\n",
      "The citi name is Heishan and the citi number is 2036959\n",
      "The citi name is Nampa and the citi number is 5601933\n",
      "The citi name is Libreville and the citi number is 2399697\n",
      "The citi name is Saint George and the citi number is 5546220\n",
      "The citi name is Havelock and the citi number is 4470244\n",
      "The citi name is Hualmay and the citi number is 3939761\n",
      "The citi name is Shelburne and the citi number is 6145890\n",
      "The citi name is Ancud and the citi number is 3899695\n",
      "The citi name is Anykščiai and the citi number is 600994\n",
      "The citi name is Abu Samrah and the citi number is 172515\n",
      "The citi name is Dolores and the citi number is 3435038\n",
      "The citi name is Chumikan and the citi number is 2025256\n",
      "The citi name is Terra Roxa and the citi number is 3446579\n",
      "The citi name is Beisfjord and the citi number is 3144987\n",
      "The citi name is Bolobo and the citi number is 2316748\n",
      "The citi name is Lompoc and the citi number is 5367788\n",
      "The citi name is Nanortalik and the citi number is 3421765\n",
      "Name not found\n",
      "The citi name is Bogovinje and the citi number is 792501\n",
      "The citi name is George and the citi number is 1002145\n",
      "The citi name is Avera and the citi number is 4231997\n",
      "The citi name is Nago and the citi number is 1856068\n",
      "The citi name is Marsh Harbour and the citi number is 3571913\n",
      "The citi name is San Jose and the citi number is 5392171\n",
      "The citi name is Klisura and the citi number is 730301\n",
      "Name not found\n",
      "The citi name is Ponta Delgada and the citi number is 3372783\n",
      "The citi name is North Bend and the citi number is 5742974\n",
      "The citi name is Micheweni and the citi number is 153955\n",
      "The citi name is Waingapu and the citi number is 1622318\n",
      "The citi name is Mehamn and the citi number is 778707\n",
      "The citi name is Polessk and the citi number is 507291\n",
      "The citi name is Darnah and the citi number is 87205\n",
      "The citi name is Gijang and the citi number is 1842966\n",
      "The citi name is Dudinka and the citi number is 1507116\n",
      "The citi name is Mayo and the citi number is 4362001\n",
      "The citi name is Ibirama and the citi number is 3461576\n",
      "The citi name is Dekar and the citi number is 933815\n",
      "The citi name is Bereda and the citi number is 3105522\n",
      "The citi name is Ferrol and the citi number is 3123493\n",
      "The citi name is Moanda and the citi number is 2398269\n",
      "The citi name is Flin Flon and the citi number is 5954718\n",
      "The citi name is Oranjestad and the citi number is 3577154\n",
      "The citi name is Kamaishi and the citi number is 2112444\n",
      "The citi name is Mikhaylovka and the citi number is 527012\n",
      "The citi name is Puerto Madryn and the citi number is 3840092\n",
      "The citi name is Ceatalchioi and the citi number is 664518\n",
      "The citi name is Laguna and the citi number is 5364271\n",
      "Name not found\n",
      "The citi name is Batagay and the citi number is 2027044\n",
      "The citi name is Oussouye and the citi number is 2246901\n",
      "The citi name is Shingū and the citi number is 1847947\n",
      "The citi name is Xingcheng and the citi number is 2033766\n",
      "The citi name is Zhezkazgan and the citi number is 1516589\n",
      "The citi name is Celestún and the citi number is 3531368\n",
      "The citi name is Karachi and the citi number is 1174872\n",
      "The citi name is Mpanda and the citi number is 153176\n",
      "The citi name is Kuytun and the citi number is 2021093\n",
      "Name not found\n",
      "The citi name is Weiser and the citi number is 5611730\n",
      "The citi name is Priargunsk and the citi number is 2017646\n",
      "Name not found\n",
      "The citi name is Kieta and the citi number is 2094027\n",
      "The citi name is Fortuna and the citi number is 5563839\n",
      "The citi name is San Policarpo and the citi number is 1688696\n",
      "Name not found\n",
      "The citi name is Kushtagi and the citi number is 1265446\n",
      "The citi name is Guerrero Negro and the citi number is 4021858\n",
      "The citi name is Touros and the citi number is 3386213\n",
      "The citi name is Bonavista and the citi number is 5905393\n",
      "The citi name is Aswān and the citi number is 359792\n",
      "The citi name is Mossamedes and the citi number is 3347019\n",
      "Name not found\n",
      "The citi name is Madang and the citi number is 2091996\n",
      "The citi name is Sīrjān and the citi number is 114259\n",
      "The citi name is Departamento de Maldonado and the citi number is 3441890\n",
      "The citi name is Anadyr and the citi number is 2127202\n",
      "The citi name is Catalina and the citi number is 5288784\n",
      "The citi name is Mangai and the citi number is 2313084\n",
      "The citi name is Santa Fe and the citi number is 3836277\n",
      "The citi name is Jiménez and the citi number is 4003938\n",
      "The citi name is Alamogordo and the citi number is 5454627\n",
      "The citi name is Mokhsogollokh and the citi number is 2019867\n",
      "The citi name is Anchorage and the citi number is 5879400\n",
      "The citi name is Lisbon and the citi number is 2267057\n",
      "The citi name is Ust'-Koksa and the citi number is 1488167\n",
      "The citi name is Cap-aux-Meules and the citi number is 5915327\n",
      "The citi name is Svobodnyy and the citi number is 2015833\n",
      "The citi name is Santa Cruz and the citi number is 2561668\n",
      "The citi name is Pointe Michel and the citi number is 3575660\n",
      "The citi name is Kruisfontein and the citi number is 986717\n",
      "The citi name is Bairiki Village and the citi number is 7601762\n",
      "The citi name is Gali and the citi number is 614613\n",
      "The citi name is Saint-Junien and the citi number is 6454825\n",
      "The citi name is Caraballeda and the citi number is 3646767\n",
      "The citi name is Mount Isa and the citi number is 2065594\n",
      "The citi name is Humenné and the citi number is 724627\n",
      "The citi name is Alcúdia and the citi number is 2522091\n",
      "The citi name is Zhigalovo and the citi number is 2012532\n",
      "The citi name is São Filipe and the citi number is 3374210\n",
      "The citi name is Mezhova and the citi number is 701305\n",
      "The citi name is Pevek and the citi number is 2122090\n",
      "The citi name is Beringovskiy and the citi number is 2126710\n",
      "The citi name is Henties Bay and the citi number is 3356832\n",
      "The citi name is Atbasar and the citi number is 1526038\n",
      "The citi name is Vitim and the citi number is 2013375\n",
      "The citi name is Wukari and the citi number is 2318921\n",
      "The citi name is Whangarei and the citi number is 6230919\n",
      "Name not found\n",
      "The citi name is Dhidhdhoo and the citi number is 1337612\n",
      "Name not found\n",
      "The citi name is Baripāda and the citi number is 1276942\n",
      "The citi name is Quang Ngai and the citi number is 1568770\n",
      "The citi name is Havøysund and the citi number is 779622\n",
      "The citi name is Nakhon Nayok and the citi number is 1608539\n",
      "The citi name is Ko Samui and the citi number is 1154689\n",
      "Name not found\n",
      "The citi name is Blythe and the citi number is 5329649\n",
      "The citi name is Verkhoyansk and the citi number is 2013465\n",
      "The citi name is Lungi and the citi number is 2407262\n",
      "The citi name is Pombia and the citi number is 3170346\n",
      "The citi name is Flinders and the citi number is 6255012\n",
      "The citi name is Sørland and the citi number is 3137469\n",
      "The citi name is Makkah al Mukarramah and the citi number is 104515\n",
      "The citi name is Moroni and the citi number is 921772\n",
      "The citi name is College and the citi number is 5859699\n",
      "The citi name is Tessalit and the citi number is 2449893\n",
      "The citi name is Abilene and the citi number is 4669635\n",
      "Name not found\n",
      "The citi name is Souillac and the citi number is 933995\n",
      "The citi name is Boyolangu and the citi number is 1648082\n",
      "The citi name is Moba and the citi number is 7341918\n",
      "The citi name is Mabaruma and the citi number is 3377301\n",
      "Name not found\n",
      "The citi name is Sur and the citi number is 286245\n",
      "The citi name is Amarante do Maranhão and the citi number is 3407755\n",
      "The citi name is San Patricio and the citi number is 3985168\n",
      "The citi name is Coahuayana Viejo and the citi number is 4013679\n",
      "The citi name is Mackay and the citi number is 2159220\n",
      "The citi name is Cantaura and the citi number is 3646869\n",
      "The citi name is Olafsvik and the citi number is 3414079\n",
      "The citi name is Kashipur and the citi number is 1267579\n",
      "The citi name is Yumen and the citi number is 1528998\n",
      "The citi name is Vehari and the citi number is 1162813\n",
      "The citi name is Isangel and the citi number is 2136825\n",
      "The citi name is Ugleural'skiy and the citi number is 479535\n",
      "The citi name is Chapada dos Guimarães and the citi number is 3466307\n"
     ]
    },
    {
     "name": "stdout",
     "output_type": "stream",
     "text": [
      "The citi name is Cidreira and the citi number is 3466165\n",
      "The citi name is Río Gallegos and the citi number is 3838859\n",
      "The citi name is Sayyan and the citi number is 70979\n",
      "The citi name is Ciudad del Carmen and the citi number is 3530599\n",
      "The citi name is Khomeyn and the citi number is 127403\n",
      "The citi name is Fairbanks and the citi number is 5861897\n",
      "The citi name is Coyhaique and the citi number is 3894426\n",
      "The citi name is Agadez and the citi number is 2448083\n",
      "The citi name is Santa Rosa and the citi number is 1687894\n",
      "The citi name is Kandrian and the citi number is 2094746\n",
      "The citi name is Brigg and the citi number is 2654721\n",
      "Name not found\n",
      "The citi name is Tornio and the citi number is 634093\n",
      "The citi name is Banda Aceh and the citi number is 1215502\n",
      "The citi name is Bar Harbor and the citi number is 4957320\n",
      "The citi name is Yagodnoye and the citi number is 2119626\n",
      "The citi name is Kirakira and the citi number is 2178753\n",
      "The citi name is Khalkhāl and the citi number is 128008\n",
      "The citi name is Am Timan and the citi number is 245338\n",
      "The citi name is Oxelösund and the citi number is 2684653\n",
      "The citi name is Ugoofaaru and the citi number is 1337619\n",
      "The citi name is Sola and the citi number is 2134814\n",
      "The citi name is Esim and the citi number is 2303611\n",
      "The citi name is Margate and the citi number is 2643044\n",
      "The citi name is Nchelenge and the citi number is 175499\n",
      "The citi name is Maniitsoq and the citi number is 3421982\n",
      "Name not found\n",
      "The citi name is Ahipara and the citi number is 2194098\n",
      "The citi name is Yaan and the citi number is 2338660\n",
      "The citi name is Pacific Grove and the citi number is 5380437\n",
      "The citi name is Saint-François and the citi number is 2980080\n",
      "The citi name is Stornoway and the citi number is 2636790\n",
      "The citi name is Nishihara and the citi number is 1855342\n",
      "The citi name is Farkhor and the citi number is 1220826\n",
      "The citi name is Sozimskiy and the citi number is 489910\n",
      "The citi name is Jacareacanga and the citi number is 3397763\n",
      "The citi name is Puerto del Rosario and the citi number is 2512186\n",
      "The citi name is Ambunti and the citi number is 2100933\n",
      "Name not found\n",
      "The citi name is Pinega and the citi number is 509483\n",
      "The citi name is Salihorsk and the citi number is 622428\n",
      "The citi name is Meulaboh and the citi number is 1214488\n",
      "The citi name is Namatanai and the citi number is 2090021\n",
      "The citi name is Linxia Chengguanzhen and the citi number is 1803331\n",
      "The citi name is Mianyang and the citi number is 1800627\n",
      "The citi name is Yatou and the citi number is 1786855\n",
      "The citi name is Xapuri and the citi number is 3924674\n",
      "The citi name is Quatre Cocos and the citi number is 1106643\n",
      "The citi name is Gizo Government Station and the citi number is 2108857\n",
      "The citi name is Máncora and the citi number is 3695000\n",
      "Name not found\n",
      "The citi name is Hyères and the citi number is 6451497\n",
      "The citi name is Korla and the citi number is 1529376\n",
      "The citi name is Belyy Yar and the citi number is 1510377\n",
      "The citi name is Puerto Cabezas and the citi number is 3617154\n",
      "The citi name is Sisophon and the citi number is 1822207\n",
      "The citi name is Storforshei and the citi number is 3145614\n",
      "The citi name is La Seyne-sur-Mer and the citi number is 3006414\n",
      "The citi name is Petropavlovsk-Kamchatskiy and the citi number is 2122104\n",
      "The citi name is Lago da Pedra and the citi number is 3396601\n",
      "The citi name is Melfi and the citi number is 3173615\n",
      "The citi name is Bandung and the citi number is 1650357\n",
      "The citi name is Port Macquarie and the citi number is 2152659\n",
      "The citi name is Nuuk and the citi number is 3421319\n",
      "The citi name is Zelenchukskaya and the citi number is 463885\n",
      "The citi name is Alice Springs and the citi number is 2077895\n",
      "The citi name is Portobelo and the citi number is 3702577\n",
      "The citi name is Oyama and the citi number is 1853483\n",
      "The citi name is Takoradze and the citi number is 2294915\n",
      "Name not found\n",
      "The citi name is Susaki and the citi number is 1851390\n",
      "The citi name is Juli and the citi number is 3937516\n",
      "The citi name is Tromsø and the citi number is 6453316\n",
      "The citi name is Naze and the citi number is 1855540\n",
      "The citi name is La Asuncion and the citi number is 3480908\n",
      "The citi name is Puerto Escondido and the citi number is 3520994\n",
      "The citi name is Oodweyne and the citi number is 53372\n",
      "The citi name is Dipalpur and the citi number is 1179760\n",
      "The citi name is Ulu-Telyak and the citi number is 479198\n",
      "The citi name is Xichang and the citi number is 1789647\n",
      "Name not found\n",
      "The citi name is Tūkrah and the citi number is 88834\n",
      "The citi name is Praia and the citi number is 3374333\n",
      "The citi name is Tadine and the citi number is 2138285\n",
      "The citi name is Duluth and the citi number is 5024719\n",
      "The citi name is Allanridge and the citi number is 1023287\n",
      "Name not found\n",
      "The citi name is Sokoni and the citi number is 149812\n",
      "The citi name is Saint Anthony and the citi number is 5044290\n",
      "The citi name is Verkhnyaya Sinyachikha and the citi number is 1487272\n",
      "Name not found\n",
      "The citi name is Staunton and the citi number is 4787440\n",
      "Name not found\n",
      "The citi name is Bocas del Toro and the citi number is 3713959\n",
      "The citi name is Fort-Shevchenko and the citi number is 609906\n",
      "Name not found\n",
      "The citi name is Woodward and the citi number is 4556050\n",
      "The citi name is Aktau and the citi number is 610612\n",
      "The citi name is Freetown and the citi number is 2409306\n",
      "The citi name is Broome and the citi number is 5110365\n",
      "The citi name is Necochea and the citi number is 3430443\n",
      "The citi name is Samarai and the citi number is 2132606\n",
      "Name not found\n",
      "The citi name is Zliten and the citi number is 2208485\n",
      "The citi name is Tambopata and the citi number is 3927942\n",
      "The citi name is Conde and the citi number is 3385077\n",
      "The citi name is Santa Maria and the citi number is 3450083\n",
      "The citi name is Champerico and the citi number is 3598787\n",
      "The citi name is Talaya and the citi number is 2120769\n",
      "The citi name is Nyimba and the citi number is 900056\n",
      "The citi name is Sinjai and the citi number is 1626895\n",
      "The citi name is Dunmore Town and the citi number is 3572462\n",
      "The citi name is Edéa and the citi number is 2232239\n",
      "The citi name is Sembakung and the citi number is 1627877\n",
      "The citi name is Glenwood Springs and the citi number is 5423092\n",
      "Name not found\n",
      "The citi name is Dingle and the citi number is 1714733\n",
      "The citi name is Pochutla and the citi number is 3517970\n",
      "The citi name is Vila Franca do Campo and the citi number is 3372472\n",
      "The citi name is Haines Junction and the citi number is 5969025\n",
      "The citi name is Aksarka and the citi number is 1512019\n",
      "The citi name is Inta and the citi number is 1505579\n",
      "The citi name is Kuvshinovo and the citi number is 538104\n",
      "The citi name is Chicama and the citi number is 3698359\n",
      "The citi name is Husavik and the citi number is 2629833\n",
      "Name not found\n",
      "The citi name is Nacozari and the citi number is 4018499\n",
      "The citi name is Iwanai and the citi number is 2129868\n",
      "The citi name is Gushikawa and the citi number is 1863495\n",
      "Name not found\n",
      "The citi name is Culebra and the citi number is 4564070\n",
      "The citi name is Srostki and the citi number is 1491088\n",
      "Name not found\n",
      "The citi name is Muros and the citi number is 3115824\n"
     ]
    }
   ],
   "source": [
    "#This cell builds the loop, pulls the data, and stores it in the variables above. \n",
    "    #It then prints out the city name and ID number per the instructions. \n",
    "for x in cities:\n",
    "        url = \"http://api.openweathermap.org/data/2.5/weather?\"\n",
    "        try:\n",
    "            query_url = url + \"appid=\" + weather_api_key + \"&q=\" + x +\"&units=imperial\"\n",
    "            citi_response = requests.get(query_url)\n",
    "            citi_json = citi_response.json()\n",
    "      \n",
    "            Name.append(citi_json['name'])\n",
    "            Lat.append(citi_json['coord']['lat'])\n",
    "            Lng.append(citi_json['coord']['lon'])\n",
    "            Max_temp.append(citi_json['main']['temp_max'])\n",
    "            Humidity.append(citi_json['main']['humidity'])\n",
    "            Cloudiness.append(citi_json['clouds']['all'])\n",
    "            Wind_Speed.append(citi_json['wind']['speed'])\n",
    "            country.append(citi_json['sys']['country'])\n",
    "            Date.append(citi_json['dt'])\n",
    "    \n",
    "            print(f'The citi name is {citi_json[\"name\"]} and the citi number is {citi_json[\"id\"]}')   \n",
    "        except KeyError:\n",
    "            print(\"Name not found\")\n",
    "                "
   ]
  },
  {
   "cell_type": "code",
   "execution_count": null,
   "metadata": {},
   "outputs": [],
   "source": []
  },
  {
   "cell_type": "code",
   "execution_count": null,
   "metadata": {},
   "outputs": [],
   "source": []
  },
  {
   "cell_type": "code",
   "execution_count": 5,
   "metadata": {},
   "outputs": [
    {
     "data": {
      "text/html": [
       "<div>\n",
       "<style scoped>\n",
       "    .dataframe tbody tr th:only-of-type {\n",
       "        vertical-align: middle;\n",
       "    }\n",
       "\n",
       "    .dataframe tbody tr th {\n",
       "        vertical-align: top;\n",
       "    }\n",
       "\n",
       "    .dataframe thead th {\n",
       "        text-align: right;\n",
       "    }\n",
       "</style>\n",
       "<table border=\"1\" class=\"dataframe\">\n",
       "  <thead>\n",
       "    <tr style=\"text-align: right;\">\n",
       "      <th></th>\n",
       "      <th>City</th>\n",
       "      <th>Lat</th>\n",
       "      <th>Lng</th>\n",
       "      <th>Max Temp</th>\n",
       "      <th>Humidity</th>\n",
       "      <th>Cloudiness</th>\n",
       "      <th>Wind Speed</th>\n",
       "      <th>Country</th>\n",
       "      <th>Date</th>\n",
       "    </tr>\n",
       "  </thead>\n",
       "  <tbody>\n",
       "    <tr>\n",
       "      <th>0</th>\n",
       "      <td>Maniago</td>\n",
       "      <td>46.17</td>\n",
       "      <td>12.71</td>\n",
       "      <td>75.99</td>\n",
       "      <td>69</td>\n",
       "      <td>18</td>\n",
       "      <td>0.83</td>\n",
       "      <td>IT</td>\n",
       "      <td>1595186617</td>\n",
       "    </tr>\n",
       "    <tr>\n",
       "      <th>1</th>\n",
       "      <td>Yangi Marg`ilon</td>\n",
       "      <td>40.43</td>\n",
       "      <td>71.72</td>\n",
       "      <td>78.80</td>\n",
       "      <td>36</td>\n",
       "      <td>0</td>\n",
       "      <td>6.93</td>\n",
       "      <td>UZ</td>\n",
       "      <td>1595186617</td>\n",
       "    </tr>\n",
       "    <tr>\n",
       "      <th>2</th>\n",
       "      <td>Waddān</td>\n",
       "      <td>29.16</td>\n",
       "      <td>16.14</td>\n",
       "      <td>85.28</td>\n",
       "      <td>43</td>\n",
       "      <td>0</td>\n",
       "      <td>23.11</td>\n",
       "      <td>LY</td>\n",
       "      <td>1595186617</td>\n",
       "    </tr>\n",
       "    <tr>\n",
       "      <th>3</th>\n",
       "      <td>Ribeira Grande</td>\n",
       "      <td>38.52</td>\n",
       "      <td>-28.70</td>\n",
       "      <td>73.40</td>\n",
       "      <td>64</td>\n",
       "      <td>40</td>\n",
       "      <td>9.17</td>\n",
       "      <td>PT</td>\n",
       "      <td>1595186617</td>\n",
       "    </tr>\n",
       "    <tr>\n",
       "      <th>4</th>\n",
       "      <td>Tasiilaq</td>\n",
       "      <td>65.61</td>\n",
       "      <td>-37.64</td>\n",
       "      <td>53.60</td>\n",
       "      <td>58</td>\n",
       "      <td>0</td>\n",
       "      <td>9.17</td>\n",
       "      <td>GL</td>\n",
       "      <td>1595186617</td>\n",
       "    </tr>\n",
       "    <tr>\n",
       "      <th>...</th>\n",
       "      <td>...</td>\n",
       "      <td>...</td>\n",
       "      <td>...</td>\n",
       "      <td>...</td>\n",
       "      <td>...</td>\n",
       "      <td>...</td>\n",
       "      <td>...</td>\n",
       "      <td>...</td>\n",
       "      <td>...</td>\n",
       "    </tr>\n",
       "    <tr>\n",
       "      <th>536</th>\n",
       "      <td>Iwanai</td>\n",
       "      <td>42.97</td>\n",
       "      <td>140.51</td>\n",
       "      <td>64.15</td>\n",
       "      <td>90</td>\n",
       "      <td>97</td>\n",
       "      <td>2.26</td>\n",
       "      <td>JP</td>\n",
       "      <td>1595186667</td>\n",
       "    </tr>\n",
       "    <tr>\n",
       "      <th>537</th>\n",
       "      <td>Gushikawa</td>\n",
       "      <td>26.35</td>\n",
       "      <td>127.87</td>\n",
       "      <td>82.40</td>\n",
       "      <td>94</td>\n",
       "      <td>1</td>\n",
       "      <td>4.70</td>\n",
       "      <td>JP</td>\n",
       "      <td>1595186667</td>\n",
       "    </tr>\n",
       "    <tr>\n",
       "      <th>538</th>\n",
       "      <td>Culebra</td>\n",
       "      <td>18.30</td>\n",
       "      <td>-65.30</td>\n",
       "      <td>89.60</td>\n",
       "      <td>59</td>\n",
       "      <td>20</td>\n",
       "      <td>13.87</td>\n",
       "      <td>PR</td>\n",
       "      <td>1595186667</td>\n",
       "    </tr>\n",
       "    <tr>\n",
       "      <th>539</th>\n",
       "      <td>Srostki</td>\n",
       "      <td>52.42</td>\n",
       "      <td>85.70</td>\n",
       "      <td>58.42</td>\n",
       "      <td>84</td>\n",
       "      <td>99</td>\n",
       "      <td>2.64</td>\n",
       "      <td>RU</td>\n",
       "      <td>1595186667</td>\n",
       "    </tr>\n",
       "    <tr>\n",
       "      <th>540</th>\n",
       "      <td>Muros</td>\n",
       "      <td>42.78</td>\n",
       "      <td>-9.06</td>\n",
       "      <td>69.01</td>\n",
       "      <td>79</td>\n",
       "      <td>0</td>\n",
       "      <td>7.00</td>\n",
       "      <td>ES</td>\n",
       "      <td>1595186667</td>\n",
       "    </tr>\n",
       "  </tbody>\n",
       "</table>\n",
       "<p>541 rows × 9 columns</p>\n",
       "</div>"
      ],
      "text/plain": [
       "                City    Lat     Lng  Max Temp  Humidity  Cloudiness  \\\n",
       "0            Maniago  46.17   12.71     75.99        69          18   \n",
       "1    Yangi Marg`ilon  40.43   71.72     78.80        36           0   \n",
       "2             Waddān  29.16   16.14     85.28        43           0   \n",
       "3     Ribeira Grande  38.52  -28.70     73.40        64          40   \n",
       "4           Tasiilaq  65.61  -37.64     53.60        58           0   \n",
       "..               ...    ...     ...       ...       ...         ...   \n",
       "536           Iwanai  42.97  140.51     64.15        90          97   \n",
       "537        Gushikawa  26.35  127.87     82.40        94           1   \n",
       "538          Culebra  18.30  -65.30     89.60        59          20   \n",
       "539          Srostki  52.42   85.70     58.42        84          99   \n",
       "540            Muros  42.78   -9.06     69.01        79           0   \n",
       "\n",
       "     Wind Speed Country        Date  \n",
       "0          0.83      IT  1595186617  \n",
       "1          6.93      UZ  1595186617  \n",
       "2         23.11      LY  1595186617  \n",
       "3          9.17      PT  1595186617  \n",
       "4          9.17      GL  1595186617  \n",
       "..          ...     ...         ...  \n",
       "536        2.26      JP  1595186667  \n",
       "537        4.70      JP  1595186667  \n",
       "538       13.87      PR  1595186667  \n",
       "539        2.64      RU  1595186667  \n",
       "540        7.00      ES  1595186667  \n",
       "\n",
       "[541 rows x 9 columns]"
      ]
     },
     "execution_count": 5,
     "metadata": {},
     "output_type": "execute_result"
    }
   ],
   "source": [
    "#Here we organize the data in to a dataframe.\n",
    "citi_info = pd.DataFrame({\"City\":Name,\n",
    "                          \"Lat\":Lat,\n",
    "                          \"Lng\":Lng,\n",
    "                          \"Max Temp\":Max_temp,\n",
    "                          \"Humidity\":Humidity,\n",
    "                          \"Cloudiness\":Cloudiness,\n",
    "                          \"Wind Speed\":Wind_Speed,\n",
    "                          \"Country\":country,\n",
    "                          \"Date\":Date})\n",
    "citi_info"
   ]
  },
  {
   "cell_type": "code",
   "execution_count": 6,
   "metadata": {},
   "outputs": [
    {
     "data": {
      "text/plain": [
       "City          541\n",
       "Lat           541\n",
       "Lng           541\n",
       "Max Temp      541\n",
       "Humidity      541\n",
       "Cloudiness    541\n",
       "Wind Speed    541\n",
       "Country       541\n",
       "Date          541\n",
       "dtype: int64"
      ]
     },
     "execution_count": 6,
     "metadata": {},
     "output_type": "execute_result"
    }
   ],
   "source": [
    "#Confirm that we have over 500 cities.\n",
    "citi_info.count()"
   ]
  },
  {
   "cell_type": "code",
   "execution_count": 7,
   "metadata": {},
   "outputs": [
    {
     "data": {
      "text/html": [
       "<div>\n",
       "<style scoped>\n",
       "    .dataframe tbody tr th:only-of-type {\n",
       "        vertical-align: middle;\n",
       "    }\n",
       "\n",
       "    .dataframe tbody tr th {\n",
       "        vertical-align: top;\n",
       "    }\n",
       "\n",
       "    .dataframe thead th {\n",
       "        text-align: right;\n",
       "    }\n",
       "</style>\n",
       "<table border=\"1\" class=\"dataframe\">\n",
       "  <thead>\n",
       "    <tr style=\"text-align: right;\">\n",
       "      <th></th>\n",
       "      <th>Lat</th>\n",
       "      <th>Lng</th>\n",
       "      <th>Max Temp</th>\n",
       "      <th>Humidity</th>\n",
       "      <th>Cloudiness</th>\n",
       "      <th>Wind Speed</th>\n",
       "      <th>Date</th>\n",
       "    </tr>\n",
       "  </thead>\n",
       "  <tbody>\n",
       "    <tr>\n",
       "      <th>count</th>\n",
       "      <td>541.000000</td>\n",
       "      <td>541.000000</td>\n",
       "      <td>541.000000</td>\n",
       "      <td>541.000000</td>\n",
       "      <td>541.000000</td>\n",
       "      <td>541.000000</td>\n",
       "      <td>5.410000e+02</td>\n",
       "    </tr>\n",
       "    <tr>\n",
       "      <th>mean</th>\n",
       "      <td>19.937560</td>\n",
       "      <td>18.647283</td>\n",
       "      <td>70.286377</td>\n",
       "      <td>68.502773</td>\n",
       "      <td>46.719039</td>\n",
       "      <td>7.811442</td>\n",
       "      <td>1.595187e+09</td>\n",
       "    </tr>\n",
       "    <tr>\n",
       "      <th>std</th>\n",
       "      <td>33.358819</td>\n",
       "      <td>90.730275</td>\n",
       "      <td>14.818490</td>\n",
       "      <td>21.780863</td>\n",
       "      <td>40.488437</td>\n",
       "      <td>5.079673</td>\n",
       "      <td>7.714773e+01</td>\n",
       "    </tr>\n",
       "    <tr>\n",
       "      <th>min</th>\n",
       "      <td>-54.800000</td>\n",
       "      <td>-179.170000</td>\n",
       "      <td>33.800000</td>\n",
       "      <td>3.000000</td>\n",
       "      <td>0.000000</td>\n",
       "      <td>0.040000</td>\n",
       "      <td>1.595186e+09</td>\n",
       "    </tr>\n",
       "    <tr>\n",
       "      <th>25%</th>\n",
       "      <td>-6.900000</td>\n",
       "      <td>-59.780000</td>\n",
       "      <td>58.530000</td>\n",
       "      <td>57.000000</td>\n",
       "      <td>1.000000</td>\n",
       "      <td>3.870000</td>\n",
       "      <td>1.595187e+09</td>\n",
       "    </tr>\n",
       "    <tr>\n",
       "      <th>50%</th>\n",
       "      <td>22.680000</td>\n",
       "      <td>21.920000</td>\n",
       "      <td>72.640000</td>\n",
       "      <td>73.000000</td>\n",
       "      <td>40.000000</td>\n",
       "      <td>6.930000</td>\n",
       "      <td>1.595187e+09</td>\n",
       "    </tr>\n",
       "    <tr>\n",
       "      <th>75%</th>\n",
       "      <td>46.430000</td>\n",
       "      <td>101.210000</td>\n",
       "      <td>80.600000</td>\n",
       "      <td>84.000000</td>\n",
       "      <td>90.000000</td>\n",
       "      <td>10.330000</td>\n",
       "      <td>1.595187e+09</td>\n",
       "    </tr>\n",
       "    <tr>\n",
       "      <th>max</th>\n",
       "      <td>78.220000</td>\n",
       "      <td>179.320000</td>\n",
       "      <td>108.750000</td>\n",
       "      <td>100.000000</td>\n",
       "      <td>100.000000</td>\n",
       "      <td>27.510000</td>\n",
       "      <td>1.595187e+09</td>\n",
       "    </tr>\n",
       "  </tbody>\n",
       "</table>\n",
       "</div>"
      ],
      "text/plain": [
       "              Lat         Lng    Max Temp    Humidity  Cloudiness  Wind Speed  \\\n",
       "count  541.000000  541.000000  541.000000  541.000000  541.000000  541.000000   \n",
       "mean    19.937560   18.647283   70.286377   68.502773   46.719039    7.811442   \n",
       "std     33.358819   90.730275   14.818490   21.780863   40.488437    5.079673   \n",
       "min    -54.800000 -179.170000   33.800000    3.000000    0.000000    0.040000   \n",
       "25%     -6.900000  -59.780000   58.530000   57.000000    1.000000    3.870000   \n",
       "50%     22.680000   21.920000   72.640000   73.000000   40.000000    6.930000   \n",
       "75%     46.430000  101.210000   80.600000   84.000000   90.000000   10.330000   \n",
       "max     78.220000  179.320000  108.750000  100.000000  100.000000   27.510000   \n",
       "\n",
       "               Date  \n",
       "count  5.410000e+02  \n",
       "mean   1.595187e+09  \n",
       "std    7.714773e+01  \n",
       "min    1.595186e+09  \n",
       "25%    1.595187e+09  \n",
       "50%    1.595187e+09  \n",
       "75%    1.595187e+09  \n",
       "max    1.595187e+09  "
      ]
     },
     "execution_count": 7,
     "metadata": {},
     "output_type": "execute_result"
    }
   ],
   "source": [
    "#Overall view of the data\n",
    "citi_info.describe()"
   ]
  },
  {
   "cell_type": "code",
   "execution_count": 8,
   "metadata": {},
   "outputs": [
    {
     "data": {
      "text/html": [
       "<div>\n",
       "<style scoped>\n",
       "    .dataframe tbody tr th:only-of-type {\n",
       "        vertical-align: middle;\n",
       "    }\n",
       "\n",
       "    .dataframe tbody tr th {\n",
       "        vertical-align: top;\n",
       "    }\n",
       "\n",
       "    .dataframe thead th {\n",
       "        text-align: right;\n",
       "    }\n",
       "</style>\n",
       "<table border=\"1\" class=\"dataframe\">\n",
       "  <thead>\n",
       "    <tr style=\"text-align: right;\">\n",
       "      <th></th>\n",
       "      <th>City</th>\n",
       "      <th>Lat</th>\n",
       "      <th>Lng</th>\n",
       "      <th>Max Temp</th>\n",
       "      <th>Humidity</th>\n",
       "      <th>Cloudiness</th>\n",
       "      <th>Wind Speed</th>\n",
       "      <th>Country</th>\n",
       "      <th>Date</th>\n",
       "    </tr>\n",
       "  </thead>\n",
       "  <tbody>\n",
       "    <tr>\n",
       "      <th>213</th>\n",
       "      <td>Griffith</td>\n",
       "      <td>41.53</td>\n",
       "      <td>-87.42</td>\n",
       "      <td>71.60</td>\n",
       "      <td>100</td>\n",
       "      <td>90</td>\n",
       "      <td>6.93</td>\n",
       "      <td>US</td>\n",
       "      <td>1595186362</td>\n",
       "    </tr>\n",
       "    <tr>\n",
       "      <th>49</th>\n",
       "      <td>Alyangula</td>\n",
       "      <td>-13.85</td>\n",
       "      <td>136.42</td>\n",
       "      <td>62.60</td>\n",
       "      <td>100</td>\n",
       "      <td>90</td>\n",
       "      <td>8.66</td>\n",
       "      <td>AU</td>\n",
       "      <td>1595186621</td>\n",
       "    </tr>\n",
       "    <tr>\n",
       "      <th>294</th>\n",
       "      <td>Ancud</td>\n",
       "      <td>-41.87</td>\n",
       "      <td>-73.82</td>\n",
       "      <td>51.01</td>\n",
       "      <td>100</td>\n",
       "      <td>90</td>\n",
       "      <td>6.93</td>\n",
       "      <td>CL</td>\n",
       "      <td>1595186644</td>\n",
       "    </tr>\n",
       "    <tr>\n",
       "      <th>78</th>\n",
       "      <td>Iqaluit</td>\n",
       "      <td>63.75</td>\n",
       "      <td>-68.51</td>\n",
       "      <td>46.40</td>\n",
       "      <td>100</td>\n",
       "      <td>90</td>\n",
       "      <td>9.17</td>\n",
       "      <td>CA</td>\n",
       "      <td>1595186623</td>\n",
       "    </tr>\n",
       "    <tr>\n",
       "      <th>392</th>\n",
       "      <td>Nakhon Nayok</td>\n",
       "      <td>14.20</td>\n",
       "      <td>101.21</td>\n",
       "      <td>86.00</td>\n",
       "      <td>100</td>\n",
       "      <td>99</td>\n",
       "      <td>4.25</td>\n",
       "      <td>TH</td>\n",
       "      <td>1595186653</td>\n",
       "    </tr>\n",
       "    <tr>\n",
       "      <th>...</th>\n",
       "      <td>...</td>\n",
       "      <td>...</td>\n",
       "      <td>...</td>\n",
       "      <td>...</td>\n",
       "      <td>...</td>\n",
       "      <td>...</td>\n",
       "      <td>...</td>\n",
       "      <td>...</td>\n",
       "      <td>...</td>\n",
       "    </tr>\n",
       "    <tr>\n",
       "      <th>154</th>\n",
       "      <td>Adrar</td>\n",
       "      <td>20.50</td>\n",
       "      <td>-10.07</td>\n",
       "      <td>105.01</td>\n",
       "      <td>12</td>\n",
       "      <td>29</td>\n",
       "      <td>8.08</td>\n",
       "      <td>MR</td>\n",
       "      <td>1595186629</td>\n",
       "    </tr>\n",
       "    <tr>\n",
       "      <th>88</th>\n",
       "      <td>Taoudenni</td>\n",
       "      <td>22.68</td>\n",
       "      <td>-3.98</td>\n",
       "      <td>108.75</td>\n",
       "      <td>10</td>\n",
       "      <td>75</td>\n",
       "      <td>4.36</td>\n",
       "      <td>ML</td>\n",
       "      <td>1595186624</td>\n",
       "    </tr>\n",
       "    <tr>\n",
       "      <th>394</th>\n",
       "      <td>Blythe</td>\n",
       "      <td>33.61</td>\n",
       "      <td>-114.60</td>\n",
       "      <td>107.60</td>\n",
       "      <td>9</td>\n",
       "      <td>40</td>\n",
       "      <td>6.93</td>\n",
       "      <td>US</td>\n",
       "      <td>1595186653</td>\n",
       "    </tr>\n",
       "    <tr>\n",
       "      <th>290</th>\n",
       "      <td>Saint George</td>\n",
       "      <td>37.10</td>\n",
       "      <td>-113.58</td>\n",
       "      <td>99.00</td>\n",
       "      <td>8</td>\n",
       "      <td>1</td>\n",
       "      <td>6.46</td>\n",
       "      <td>US</td>\n",
       "      <td>1595186382</td>\n",
       "    </tr>\n",
       "    <tr>\n",
       "      <th>387</th>\n",
       "      <td>Whangarei</td>\n",
       "      <td>-35.73</td>\n",
       "      <td>174.32</td>\n",
       "      <td>55.99</td>\n",
       "      <td>3</td>\n",
       "      <td>59</td>\n",
       "      <td>4.74</td>\n",
       "      <td>NZ</td>\n",
       "      <td>1595186652</td>\n",
       "    </tr>\n",
       "  </tbody>\n",
       "</table>\n",
       "<p>541 rows × 9 columns</p>\n",
       "</div>"
      ],
      "text/plain": [
       "             City    Lat     Lng  Max Temp  Humidity  Cloudiness  Wind Speed  \\\n",
       "213      Griffith  41.53  -87.42     71.60       100          90        6.93   \n",
       "49      Alyangula -13.85  136.42     62.60       100          90        8.66   \n",
       "294         Ancud -41.87  -73.82     51.01       100          90        6.93   \n",
       "78        Iqaluit  63.75  -68.51     46.40       100          90        9.17   \n",
       "392  Nakhon Nayok  14.20  101.21     86.00       100          99        4.25   \n",
       "..            ...    ...     ...       ...       ...         ...         ...   \n",
       "154         Adrar  20.50  -10.07    105.01        12          29        8.08   \n",
       "88      Taoudenni  22.68   -3.98    108.75        10          75        4.36   \n",
       "394        Blythe  33.61 -114.60    107.60         9          40        6.93   \n",
       "290  Saint George  37.10 -113.58     99.00         8           1        6.46   \n",
       "387     Whangarei -35.73  174.32     55.99         3          59        4.74   \n",
       "\n",
       "    Country        Date  \n",
       "213      US  1595186362  \n",
       "49       AU  1595186621  \n",
       "294      CL  1595186644  \n",
       "78       CA  1595186623  \n",
       "392      TH  1595186653  \n",
       "..      ...         ...  \n",
       "154      MR  1595186629  \n",
       "88       ML  1595186624  \n",
       "394      US  1595186653  \n",
       "290      US  1595186382  \n",
       "387      NZ  1595186652  \n",
       "\n",
       "[541 rows x 9 columns]"
      ]
     },
     "execution_count": 8,
     "metadata": {},
     "output_type": "execute_result"
    }
   ],
   "source": [
    "#Confirm Humidity does not exceed 100%\n",
    "citi_info_humid = citi_info.sort_values(\"Humidity\",ascending=False)\n",
    "citi_info_humid"
   ]
  },
  {
   "cell_type": "code",
   "execution_count": null,
   "metadata": {},
   "outputs": [],
   "source": []
  },
  {
   "cell_type": "code",
   "execution_count": 9,
   "metadata": {},
   "outputs": [],
   "source": [
    "#Save the output to CSV file. \n",
    "citi_info.to_csv(\"../output_data/cities_mike.csv\", index=False, header=True)"
   ]
  },
  {
   "cell_type": "code",
   "execution_count": null,
   "metadata": {},
   "outputs": [],
   "source": []
  },
  {
   "cell_type": "code",
   "execution_count": 10,
   "metadata": {},
   "outputs": [
    {
     "name": "stdout",
     "output_type": "stream",
     "text": [
      "{'base': 'stations',\n",
      " 'clouds': {'all': 0},\n",
      " 'cod': 200,\n",
      " 'coord': {'lat': 42.78, 'lon': -9.06},\n",
      " 'dt': 1595186667,\n",
      " 'id': 3115824,\n",
      " 'main': {'feels_like': 69.19,\n",
      "          'humidity': 79,\n",
      "          'pressure': 1015,\n",
      "          'temp': 69.01,\n",
      "          'temp_max': 69.01,\n",
      "          'temp_min': 69.01},\n",
      " 'name': 'Muros',\n",
      " 'sys': {'country': 'ES',\n",
      "         'id': 72671,\n",
      "         'sunrise': 1595135703,\n",
      "         'sunset': 1595189381,\n",
      "         'type': 3},\n",
      " 'timezone': 7200,\n",
      " 'visibility': 10000,\n",
      " 'weather': [{'description': 'clear sky',\n",
      "              'icon': '01d',\n",
      "              'id': 800,\n",
      "              'main': 'Clear'}],\n",
      " 'wind': {'deg': 34, 'gust': 17, 'speed': 7}}\n"
     ]
    }
   ],
   "source": [
    "#This was used to get correct names of fields in the json files.\n",
    "pprint(citi_json)"
   ]
  },
  {
   "cell_type": "code",
   "execution_count": 11,
   "metadata": {},
   "outputs": [
    {
     "name": "stdout",
     "output_type": "stream",
     "text": [
      "Muros\n",
      "42.78\n",
      "-9.06\n",
      "69.01\n",
      "79\n",
      "0\n",
      "7\n",
      "ES\n",
      "1595186667\n"
     ]
    }
   ],
   "source": [
    "#confirmed the above names were correct.\n",
    "print(citi_json['name'])\n",
    "print(citi_json['coord']['lat'])\n",
    "print(citi_json['coord']['lon'])\n",
    "print(citi_json['main']['temp_max'])\n",
    "print(citi_json['main']['humidity'])\n",
    "print(citi_json['clouds']['all'])\n",
    "print(citi_json['wind']['speed'])\n",
    "print(citi_json['sys']['country'])\n",
    "print(citi_json['dt'])"
   ]
  },
  {
   "cell_type": "code",
   "execution_count": null,
   "metadata": {},
   "outputs": [],
   "source": [
    "\n",
    "        "
   ]
  },
  {
   "cell_type": "markdown",
   "metadata": {},
   "source": [
    "### Convert Raw Data to DataFrame\n",
    "* Export the city data into a .csv.\n",
    "* Display the DataFrame"
   ]
  },
  {
   "cell_type": "code",
   "execution_count": null,
   "metadata": {},
   "outputs": [],
   "source": []
  },
  {
   "cell_type": "code",
   "execution_count": null,
   "metadata": {},
   "outputs": [],
   "source": []
  },
  {
   "cell_type": "code",
   "execution_count": null,
   "metadata": {},
   "outputs": [],
   "source": []
  },
  {
   "cell_type": "markdown",
   "metadata": {},
   "source": [
    "## Inspect the data and remove the cities where the humidity > 100%.\n",
    "----\n",
    "Skip this step if there are no cities that have humidity > 100%. "
   ]
  },
  {
   "cell_type": "code",
   "execution_count": 12,
   "metadata": {},
   "outputs": [
    {
     "name": "stdout",
     "output_type": "stream",
     "text": [
      "There were no cities with hunidity above 100%\n"
     ]
    }
   ],
   "source": [
    "print(\"There were no cities with hunidity above 100%\")"
   ]
  },
  {
   "cell_type": "code",
   "execution_count": 13,
   "metadata": {},
   "outputs": [],
   "source": [
    "#  Get the indices of cities that have humidity over 100%.\n"
   ]
  },
  {
   "cell_type": "code",
   "execution_count": 14,
   "metadata": {},
   "outputs": [],
   "source": [
    "# Make a new DataFrame equal to the city data to drop all humidity outliers by index.\n",
    "# Passing \"inplace=False\" will make a copy of the city_data DataFrame, which we call \"clean_city_data\".\n"
   ]
  },
  {
   "cell_type": "code",
   "execution_count": 15,
   "metadata": {},
   "outputs": [],
   "source": [
    "# Extract relevant fields from the data frame\n",
    "\n",
    "\n",
    "# Export the City_Data into a csv\n"
   ]
  },
  {
   "cell_type": "markdown",
   "metadata": {},
   "source": [
    "## Plotting the Data\n",
    "* Use proper labeling of the plots using plot titles (including date of analysis) and axes labels.\n",
    "* Save the plotted figures as .pngs."
   ]
  },
  {
   "cell_type": "markdown",
   "metadata": {},
   "source": [
    "## Latitude vs. Temperature Plot"
   ]
  },
  {
   "cell_type": "code",
   "execution_count": 16,
   "metadata": {},
   "outputs": [
    {
     "data": {
      "image/png": "[encoded data removed]",
      "text/plain": [
       "<Figure size 432x288 with 1 Axes>"
      ]
     },
     "metadata": {
      "needs_background": "light"
     },
     "output_type": "display_data"
    }
   ],
   "source": [
    "plt.scatter(citi_info[\"Lat\"],citi_info[\"Max Temp\"], marker=\"o\", facecolors=\"blue\", edgecolors=\"black\",\n",
    "             alpha=0.75)\n",
    "\n",
    "plt.xlim(-60, 85)\n",
    "plt.ylim(20, 115)\n",
    "plt.grid()\n",
    "plt.title(\"City Latitude vs. Temperature 7/17/20\")\n",
    "plt.xlabel(\"Latitude\")\n",
    "plt.ylabel(\"Temperature (F)\")\n",
    "plt.savefig(\"../output_data/Latitude vs Temperature Plot.png\")\n",
    "plt.show()"
   ]
  },
  {
   "cell_type": "code",
   "execution_count": 17,
   "metadata": {},
   "outputs": [
    {
     "name": "stdout",
     "output_type": "stream",
     "text": [
      "This code compares prints a scatterplot of the latitude vs. Max temperature. As expected, the closer to the equater, the higher the temperature.\n"
     ]
    }
   ],
   "source": [
    "print(\"This code compares prints a scatterplot of the latitude vs. Max temperature. As expected, the closer to the equater, the higher the temperature.\")\n",
    "\n",
    "      "
   ]
  },
  {
   "cell_type": "code",
   "execution_count": null,
   "metadata": {
    "scrolled": true
   },
   "outputs": [],
   "source": []
  },
  {
   "cell_type": "markdown",
   "metadata": {},
   "source": [
    "## Latitude vs. Humidity Plot"
   ]
  },
  {
   "cell_type": "code",
   "execution_count": 18,
   "metadata": {},
   "outputs": [
    {
     "data": {
      "image/png": "[encoded data removed]",
      "text/plain": [
       "<Figure size 432x288 with 1 Axes>"
      ]
     },
     "metadata": {
      "needs_background": "light"
     },
     "output_type": "display_data"
    }
   ],
   "source": [
    "plt.scatter(citi_info[\"Lat\"],citi_info[\"Humidity\"], marker=\"o\", facecolors=\"blue\", edgecolors=\"black\",\n",
    "             alpha=0.75)\n",
    "\n",
    "plt.xlim(-60, 85)\n",
    "plt.ylim(20, 115)\n",
    "plt.grid()\n",
    "plt.title(\"City Latitude vs. Humidity 7/17/20\")\n",
    "plt.xlabel(\"Latitude\")\n",
    "plt.ylabel(\"Temperature (F)\")\n",
    "plt.savefig(\"../output_data/Latitude vs Humidity Plot.png\")\n",
    "plt.show()"
   ]
  },
  {
   "cell_type": "code",
   "execution_count": 19,
   "metadata": {},
   "outputs": [
    {
     "name": "stdout",
     "output_type": "stream",
     "text": [
      "This code prints a scatterplot of Latitude vs. Humidity. As you can see, there's not much of a relatioship between the two.\n"
     ]
    }
   ],
   "source": [
    "print(\"This code prints a scatterplot of Latitude vs. Humidity. As you can see, there's not much of a relatioship between the two.\")"
   ]
  },
  {
   "cell_type": "code",
   "execution_count": null,
   "metadata": {},
   "outputs": [],
   "source": []
  },
  {
   "cell_type": "markdown",
   "metadata": {},
   "source": [
    "## Latitude vs. Cloudiness Plot"
   ]
  },
  {
   "cell_type": "code",
   "execution_count": 20,
   "metadata": {},
   "outputs": [
    {
     "data": {
      "image/png": "[encoded data removed]",
      "text/plain": [
       "<Figure size 432x288 with 1 Axes>"
      ]
     },
     "metadata": {
      "needs_background": "light"
     },
     "output_type": "display_data"
    }
   ],
   "source": [
    "plt.scatter(citi_info[\"Lat\"],citi_info[\"Cloudiness\"], marker=\"o\", facecolors=\"blue\", edgecolors=\"black\",\n",
    "             alpha=0.75)\n",
    "\n",
    "plt.xlim(-60, 85)\n",
    "plt.ylim(20, 115)\n",
    "plt.grid()\n",
    "plt.title(\"City Latitude vs. Cloudiness 7/17/20\")\n",
    "plt.xlabel(\"Latitude\")\n",
    "plt.ylabel(\"Cloudiness\")\n",
    "plt.savefig(\"../output_data/Latitude vs Cloudines Plot.png\")\n",
    "plt.show()"
   ]
  },
  {
   "cell_type": "code",
   "execution_count": 21,
   "metadata": {},
   "outputs": [
    {
     "name": "stdout",
     "output_type": "stream",
     "text": [
      "This code prints a scatterplot of Latitude vs. Cloudiness. As you can see, there's not much of a relatioship between the two.\n"
     ]
    }
   ],
   "source": [
    "print(\"This code prints a scatterplot of Latitude vs. Cloudiness. As you can see, there's not much of a relatioship between the two.\")"
   ]
  },
  {
   "cell_type": "code",
   "execution_count": null,
   "metadata": {},
   "outputs": [],
   "source": []
  },
  {
   "cell_type": "markdown",
   "metadata": {},
   "source": [
    "## Latitude vs. Wind Speed Plot"
   ]
  },
  {
   "cell_type": "code",
   "execution_count": 22,
   "metadata": {},
   "outputs": [
    {
     "data": {
      "image/png": "[encoded data removed]",
      "text/plain": [
       "<Figure size 432x288 with 1 Axes>"
      ]
     },
     "metadata": {
      "needs_background": "light"
     },
     "output_type": "display_data"
    }
   ],
   "source": [
    "plt.scatter(citi_info[\"Lat\"],citi_info[\"Wind Speed\"], marker=\"o\", facecolors=\"blue\", edgecolors=\"black\",\n",
    "             alpha=0.75)\n",
    "\n",
    "plt.xlim(-60, 85)\n",
    "plt.ylim(-2, 35)\n",
    "plt.grid()\n",
    "plt.title(\"City Latitude vs. Wind Speed 7/17/20\")\n",
    "plt.xlabel(\"Latitude\")\n",
    "plt.ylabel(\"Wind Speed\")\n",
    "plt.savefig(\"../output_data/Latitude vs Wind Speed Plot.png\")\n",
    "plt.show()"
   ]
  },
  {
   "cell_type": "code",
   "execution_count": 23,
   "metadata": {},
   "outputs": [
    {
     "name": "stdout",
     "output_type": "stream",
     "text": [
      "This code prints a scatterplot of Latitude vs. Wind Speed. As you can see, there's not much of a relatioship between the two.\n"
     ]
    }
   ],
   "source": [
    "print(\"This code prints a scatterplot of Latitude vs. Wind Speed. As you can see, there's not much of a relatioship between the two.\")"
   ]
  },
  {
   "cell_type": "code",
   "execution_count": null,
   "metadata": {},
   "outputs": [],
   "source": []
  },
  {
   "cell_type": "markdown",
   "metadata": {},
   "source": [
    "## Linear Regression"
   ]
  },
  {
   "cell_type": "code",
   "execution_count": 24,
   "metadata": {},
   "outputs": [],
   "source": [
    "# OPTIONAL: Create a function to create Linear Regression plots"
   ]
  },
  {
   "cell_type": "code",
   "execution_count": 25,
   "metadata": {},
   "outputs": [],
   "source": [
    "# Create Northern and Southern Hemisphere DataFrames"
   ]
  },
  {
   "cell_type": "markdown",
   "metadata": {},
   "source": [
    "####  Northern Hemisphere - Max Temp vs. Latitude Linear Regression"
   ]
  },
  {
   "cell_type": "code",
   "execution_count": 26,
   "metadata": {},
   "outputs": [
    {
     "data": {
      "text/html": [
       "<div>\n",
       "<style scoped>\n",
       "    .dataframe tbody tr th:only-of-type {\n",
       "        vertical-align: middle;\n",
       "    }\n",
       "\n",
       "    .dataframe tbody tr th {\n",
       "        vertical-align: top;\n",
       "    }\n",
       "\n",
       "    .dataframe thead th {\n",
       "        text-align: right;\n",
       "    }\n",
       "</style>\n",
       "<table border=\"1\" class=\"dataframe\">\n",
       "  <thead>\n",
       "    <tr style=\"text-align: right;\">\n",
       "      <th></th>\n",
       "      <th>City</th>\n",
       "      <th>Lat</th>\n",
       "      <th>Lng</th>\n",
       "      <th>Max Temp</th>\n",
       "      <th>Humidity</th>\n",
       "      <th>Cloudiness</th>\n",
       "      <th>Wind Speed</th>\n",
       "      <th>Country</th>\n",
       "      <th>Date</th>\n",
       "    </tr>\n",
       "  </thead>\n",
       "  <tbody>\n",
       "    <tr>\n",
       "      <th>0</th>\n",
       "      <td>Maniago</td>\n",
       "      <td>46.17</td>\n",
       "      <td>12.71</td>\n",
       "      <td>75.99</td>\n",
       "      <td>69</td>\n",
       "      <td>18</td>\n",
       "      <td>0.83</td>\n",
       "      <td>IT</td>\n",
       "      <td>1595186617</td>\n",
       "    </tr>\n",
       "    <tr>\n",
       "      <th>1</th>\n",
       "      <td>Yangi Marg`ilon</td>\n",
       "      <td>40.43</td>\n",
       "      <td>71.72</td>\n",
       "      <td>78.80</td>\n",
       "      <td>36</td>\n",
       "      <td>0</td>\n",
       "      <td>6.93</td>\n",
       "      <td>UZ</td>\n",
       "      <td>1595186617</td>\n",
       "    </tr>\n",
       "    <tr>\n",
       "      <th>2</th>\n",
       "      <td>Waddān</td>\n",
       "      <td>29.16</td>\n",
       "      <td>16.14</td>\n",
       "      <td>85.28</td>\n",
       "      <td>43</td>\n",
       "      <td>0</td>\n",
       "      <td>23.11</td>\n",
       "      <td>LY</td>\n",
       "      <td>1595186617</td>\n",
       "    </tr>\n",
       "    <tr>\n",
       "      <th>3</th>\n",
       "      <td>Ribeira Grande</td>\n",
       "      <td>38.52</td>\n",
       "      <td>-28.70</td>\n",
       "      <td>73.40</td>\n",
       "      <td>64</td>\n",
       "      <td>40</td>\n",
       "      <td>9.17</td>\n",
       "      <td>PT</td>\n",
       "      <td>1595186617</td>\n",
       "    </tr>\n",
       "    <tr>\n",
       "      <th>4</th>\n",
       "      <td>Tasiilaq</td>\n",
       "      <td>65.61</td>\n",
       "      <td>-37.64</td>\n",
       "      <td>53.60</td>\n",
       "      <td>58</td>\n",
       "      <td>0</td>\n",
       "      <td>9.17</td>\n",
       "      <td>GL</td>\n",
       "      <td>1595186617</td>\n",
       "    </tr>\n",
       "    <tr>\n",
       "      <th>...</th>\n",
       "      <td>...</td>\n",
       "      <td>...</td>\n",
       "      <td>...</td>\n",
       "      <td>...</td>\n",
       "      <td>...</td>\n",
       "      <td>...</td>\n",
       "      <td>...</td>\n",
       "      <td>...</td>\n",
       "      <td>...</td>\n",
       "    </tr>\n",
       "    <tr>\n",
       "      <th>536</th>\n",
       "      <td>Iwanai</td>\n",
       "      <td>42.97</td>\n",
       "      <td>140.51</td>\n",
       "      <td>64.15</td>\n",
       "      <td>90</td>\n",
       "      <td>97</td>\n",
       "      <td>2.26</td>\n",
       "      <td>JP</td>\n",
       "      <td>1595186667</td>\n",
       "    </tr>\n",
       "    <tr>\n",
       "      <th>537</th>\n",
       "      <td>Gushikawa</td>\n",
       "      <td>26.35</td>\n",
       "      <td>127.87</td>\n",
       "      <td>82.40</td>\n",
       "      <td>94</td>\n",
       "      <td>1</td>\n",
       "      <td>4.70</td>\n",
       "      <td>JP</td>\n",
       "      <td>1595186667</td>\n",
       "    </tr>\n",
       "    <tr>\n",
       "      <th>538</th>\n",
       "      <td>Culebra</td>\n",
       "      <td>18.30</td>\n",
       "      <td>-65.30</td>\n",
       "      <td>89.60</td>\n",
       "      <td>59</td>\n",
       "      <td>20</td>\n",
       "      <td>13.87</td>\n",
       "      <td>PR</td>\n",
       "      <td>1595186667</td>\n",
       "    </tr>\n",
       "    <tr>\n",
       "      <th>539</th>\n",
       "      <td>Srostki</td>\n",
       "      <td>52.42</td>\n",
       "      <td>85.70</td>\n",
       "      <td>58.42</td>\n",
       "      <td>84</td>\n",
       "      <td>99</td>\n",
       "      <td>2.64</td>\n",
       "      <td>RU</td>\n",
       "      <td>1595186667</td>\n",
       "    </tr>\n",
       "    <tr>\n",
       "      <th>540</th>\n",
       "      <td>Muros</td>\n",
       "      <td>42.78</td>\n",
       "      <td>-9.06</td>\n",
       "      <td>69.01</td>\n",
       "      <td>79</td>\n",
       "      <td>0</td>\n",
       "      <td>7.00</td>\n",
       "      <td>ES</td>\n",
       "      <td>1595186667</td>\n",
       "    </tr>\n",
       "  </tbody>\n",
       "</table>\n",
       "<p>369 rows × 9 columns</p>\n",
       "</div>"
      ],
      "text/plain": [
       "                City    Lat     Lng  Max Temp  Humidity  Cloudiness  \\\n",
       "0            Maniago  46.17   12.71     75.99        69          18   \n",
       "1    Yangi Marg`ilon  40.43   71.72     78.80        36           0   \n",
       "2             Waddān  29.16   16.14     85.28        43           0   \n",
       "3     Ribeira Grande  38.52  -28.70     73.40        64          40   \n",
       "4           Tasiilaq  65.61  -37.64     53.60        58           0   \n",
       "..               ...    ...     ...       ...       ...         ...   \n",
       "536           Iwanai  42.97  140.51     64.15        90          97   \n",
       "537        Gushikawa  26.35  127.87     82.40        94           1   \n",
       "538          Culebra  18.30  -65.30     89.60        59          20   \n",
       "539          Srostki  52.42   85.70     58.42        84          99   \n",
       "540            Muros  42.78   -9.06     69.01        79           0   \n",
       "\n",
       "     Wind Speed Country        Date  \n",
       "0          0.83      IT  1595186617  \n",
       "1          6.93      UZ  1595186617  \n",
       "2         23.11      LY  1595186617  \n",
       "3          9.17      PT  1595186617  \n",
       "4          9.17      GL  1595186617  \n",
       "..          ...     ...         ...  \n",
       "536        2.26      JP  1595186667  \n",
       "537        4.70      JP  1595186667  \n",
       "538       13.87      PR  1595186667  \n",
       "539        2.64      RU  1595186667  \n",
       "540        7.00      ES  1595186667  \n",
       "\n",
       "[369 rows x 9 columns]"
      ]
     },
     "execution_count": 26,
     "metadata": {},
     "output_type": "execute_result"
    }
   ],
   "source": [
    "#Here we split the data in two parts base on Lat >=0 for the Northern Hemisphere.\n",
    "citi_info_north = citi_info.loc[citi_info[\"Lat\"]>=0]\n",
    "citi_info_north"
   ]
  },
  {
   "cell_type": "code",
   "execution_count": 27,
   "metadata": {},
   "outputs": [
    {
     "data": {
      "text/html": [
       "<div>\n",
       "<style scoped>\n",
       "    .dataframe tbody tr th:only-of-type {\n",
       "        vertical-align: middle;\n",
       "    }\n",
       "\n",
       "    .dataframe tbody tr th {\n",
       "        vertical-align: top;\n",
       "    }\n",
       "\n",
       "    .dataframe thead th {\n",
       "        text-align: right;\n",
       "    }\n",
       "</style>\n",
       "<table border=\"1\" class=\"dataframe\">\n",
       "  <thead>\n",
       "    <tr style=\"text-align: right;\">\n",
       "      <th></th>\n",
       "      <th>City</th>\n",
       "      <th>Lat</th>\n",
       "      <th>Lng</th>\n",
       "      <th>Max Temp</th>\n",
       "      <th>Humidity</th>\n",
       "      <th>Cloudiness</th>\n",
       "      <th>Wind Speed</th>\n",
       "      <th>Country</th>\n",
       "      <th>Date</th>\n",
       "    </tr>\n",
       "  </thead>\n",
       "  <tbody>\n",
       "    <tr>\n",
       "      <th>8</th>\n",
       "      <td>Ushuaia</td>\n",
       "      <td>-54.80</td>\n",
       "      <td>-68.30</td>\n",
       "      <td>33.80</td>\n",
       "      <td>86</td>\n",
       "      <td>75</td>\n",
       "      <td>0.45</td>\n",
       "      <td>AR</td>\n",
       "      <td>1595186617</td>\n",
       "    </tr>\n",
       "    <tr>\n",
       "      <th>13</th>\n",
       "      <td>Saldanha</td>\n",
       "      <td>-33.01</td>\n",
       "      <td>17.94</td>\n",
       "      <td>55.40</td>\n",
       "      <td>82</td>\n",
       "      <td>0</td>\n",
       "      <td>5.82</td>\n",
       "      <td>ZA</td>\n",
       "      <td>1595186618</td>\n",
       "    </tr>\n",
       "    <tr>\n",
       "      <th>15</th>\n",
       "      <td>East London</td>\n",
       "      <td>-33.02</td>\n",
       "      <td>27.91</td>\n",
       "      <td>63.66</td>\n",
       "      <td>77</td>\n",
       "      <td>0</td>\n",
       "      <td>15.75</td>\n",
       "      <td>ZA</td>\n",
       "      <td>1595186618</td>\n",
       "    </tr>\n",
       "    <tr>\n",
       "      <th>16</th>\n",
       "      <td>Bredasdorp</td>\n",
       "      <td>-34.53</td>\n",
       "      <td>20.04</td>\n",
       "      <td>51.80</td>\n",
       "      <td>93</td>\n",
       "      <td>0</td>\n",
       "      <td>1.12</td>\n",
       "      <td>ZA</td>\n",
       "      <td>1595186618</td>\n",
       "    </tr>\n",
       "    <tr>\n",
       "      <th>17</th>\n",
       "      <td>Hermanus</td>\n",
       "      <td>-34.42</td>\n",
       "      <td>19.23</td>\n",
       "      <td>50.00</td>\n",
       "      <td>93</td>\n",
       "      <td>0</td>\n",
       "      <td>8.43</td>\n",
       "      <td>ZA</td>\n",
       "      <td>1595186395</td>\n",
       "    </tr>\n",
       "    <tr>\n",
       "      <th>...</th>\n",
       "      <td>...</td>\n",
       "      <td>...</td>\n",
       "      <td>...</td>\n",
       "      <td>...</td>\n",
       "      <td>...</td>\n",
       "      <td>...</td>\n",
       "      <td>...</td>\n",
       "      <td>...</td>\n",
       "      <td>...</td>\n",
       "    </tr>\n",
       "    <tr>\n",
       "      <th>516</th>\n",
       "      <td>Conde</td>\n",
       "      <td>-7.26</td>\n",
       "      <td>-34.91</td>\n",
       "      <td>80.60</td>\n",
       "      <td>78</td>\n",
       "      <td>20</td>\n",
       "      <td>13.87</td>\n",
       "      <td>BR</td>\n",
       "      <td>1595186665</td>\n",
       "    </tr>\n",
       "    <tr>\n",
       "      <th>517</th>\n",
       "      <td>Santa Maria</td>\n",
       "      <td>-29.68</td>\n",
       "      <td>-53.81</td>\n",
       "      <td>86.00</td>\n",
       "      <td>42</td>\n",
       "      <td>3</td>\n",
       "      <td>14.99</td>\n",
       "      <td>BR</td>\n",
       "      <td>1595186665</td>\n",
       "    </tr>\n",
       "    <tr>\n",
       "      <th>520</th>\n",
       "      <td>Nyimba</td>\n",
       "      <td>-14.56</td>\n",
       "      <td>30.81</td>\n",
       "      <td>63.16</td>\n",
       "      <td>60</td>\n",
       "      <td>0</td>\n",
       "      <td>10.87</td>\n",
       "      <td>ZM</td>\n",
       "      <td>1595186665</td>\n",
       "    </tr>\n",
       "    <tr>\n",
       "      <th>521</th>\n",
       "      <td>Sinjai</td>\n",
       "      <td>-5.12</td>\n",
       "      <td>120.25</td>\n",
       "      <td>75.88</td>\n",
       "      <td>88</td>\n",
       "      <td>99</td>\n",
       "      <td>3.87</td>\n",
       "      <td>ID</td>\n",
       "      <td>1595186665</td>\n",
       "    </tr>\n",
       "    <tr>\n",
       "      <th>533</th>\n",
       "      <td>Chicama</td>\n",
       "      <td>-7.84</td>\n",
       "      <td>-79.15</td>\n",
       "      <td>71.80</td>\n",
       "      <td>56</td>\n",
       "      <td>10</td>\n",
       "      <td>11.45</td>\n",
       "      <td>PE</td>\n",
       "      <td>1595186666</td>\n",
       "    </tr>\n",
       "  </tbody>\n",
       "</table>\n",
       "<p>172 rows × 9 columns</p>\n",
       "</div>"
      ],
      "text/plain": [
       "            City    Lat     Lng  Max Temp  Humidity  Cloudiness  Wind Speed  \\\n",
       "8        Ushuaia -54.80  -68.30     33.80        86          75        0.45   \n",
       "13      Saldanha -33.01   17.94     55.40        82           0        5.82   \n",
       "15   East London -33.02   27.91     63.66        77           0       15.75   \n",
       "16    Bredasdorp -34.53   20.04     51.80        93           0        1.12   \n",
       "17      Hermanus -34.42   19.23     50.00        93           0        8.43   \n",
       "..           ...    ...     ...       ...       ...         ...         ...   \n",
       "516        Conde  -7.26  -34.91     80.60        78          20       13.87   \n",
       "517  Santa Maria -29.68  -53.81     86.00        42           3       14.99   \n",
       "520       Nyimba -14.56   30.81     63.16        60           0       10.87   \n",
       "521       Sinjai  -5.12  120.25     75.88        88          99        3.87   \n",
       "533      Chicama  -7.84  -79.15     71.80        56          10       11.45   \n",
       "\n",
       "    Country        Date  \n",
       "8        AR  1595186617  \n",
       "13       ZA  1595186618  \n",
       "15       ZA  1595186618  \n",
       "16       ZA  1595186618  \n",
       "17       ZA  1595186395  \n",
       "..      ...         ...  \n",
       "516      BR  1595186665  \n",
       "517      BR  1595186665  \n",
       "520      ZM  1595186665  \n",
       "521      ID  1595186665  \n",
       "533      PE  1595186666  \n",
       "\n",
       "[172 rows x 9 columns]"
      ]
     },
     "execution_count": 27,
     "metadata": {},
     "output_type": "execute_result"
    }
   ],
   "source": [
    "##Here we split the data in two parts base on Lat <0 for the Southern Hemisphere.\n",
    "citi_info_south = citi_info.loc[citi_info[\"Lat\"]<0]\n",
    "citi_info_south"
   ]
  },
  {
   "cell_type": "code",
   "execution_count": 28,
   "metadata": {},
   "outputs": [
    {
     "name": "stdout",
     "output_type": "stream",
     "text": [
      "The r-squared is: 0.4752068419935645\n"
     ]
    },
    {
     "data": {
      "image/png": "[encoded data removed]",
      "text/plain": [
       "<Figure size 432x288 with 1 Axes>"
      ]
     },
     "metadata": {
      "needs_background": "light"
     },
     "output_type": "display_data"
    }
   ],
   "source": [
    "plt.scatter(citi_info_north[\"Lat\"],citi_info_north[\"Max Temp\"], marker=\"o\", facecolors=\"blue\", edgecolors=\"black\",\n",
    "             alpha=0.75)\n",
    "x_values = citi_info_north[\"Lat\"]\n",
    "y_values = citi_info_north[\"Max Temp\"]\n",
    "plt.xlim(-10, 85)\n",
    "plt.ylim(30, 110)\n",
    "plt.grid()\n",
    "plt.title(\"Northern Hemisphere - Max Temp vs. Latitude Linear Regression 7/17/20\")\n",
    "plt.xlabel(\"Latitude\")\n",
    "plt.ylabel(\"Temperature (F)\")\n",
    "(slope, intercept, rvalue, pvalue, stderr) = linregress(x_values, y_values)\n",
    "regress_values = x_values * slope + intercept\n",
    "line_eq = \"y = \" + str(round(slope,2)) + \"x + \" + str(round(intercept,2))\n",
    "plt.plot(x_values,regress_values,\"r-\")\n",
    "plt.annotate(line_eq,(20,50),fontsize=15,color=\"red\")\n",
    "print(f\"The r-squared is: {rvalue**2}\")\n",
    "plt.savefig(\"../output_data/Latitude vs Temperature Northern Hem with Regression line Plot.png\")\n",
    "plt.show()"
   ]
  },
  {
   "cell_type": "markdown",
   "metadata": {},
   "source": [
    "####  Southern Hemisphere - Max Temp vs. Latitude Linear Regression"
   ]
  },
  {
   "cell_type": "code",
   "execution_count": 29,
   "metadata": {},
   "outputs": [
    {
     "name": "stdout",
     "output_type": "stream",
     "text": [
      "The r-squared is: 0.5666167275396328\n"
     ]
    },
    {
     "data": {
      "image/png": "[encoded data removed]",
      "text/plain": [
       "<Figure size 432x288 with 1 Axes>"
      ]
     },
     "metadata": {
      "needs_background": "light"
     },
     "output_type": "display_data"
    }
   ],
   "source": [
    "plt.scatter(citi_info_south[\"Lat\"],citi_info_south[\"Max Temp\"], marker=\"o\", facecolors=\"blue\", edgecolors=\"black\",\n",
    "             alpha=0.75)\n",
    "x_values = citi_info_south[\"Lat\"]\n",
    "y_values = citi_info_south[\"Max Temp\"]\n",
    "plt.xlim(-60, 10)\n",
    "plt.ylim(20, 100)\n",
    "plt.grid()\n",
    "plt.title(\"Southern Hemisphere - Max Temp vs. Latitude Linear Regression 7/17/20\")\n",
    "plt.xlabel(\"Latitude\")\n",
    "plt.ylabel(\"Temperature (F)\")\n",
    "(slope, intercept, rvalue, pvalue, stderr) = linregress(x_values, y_values)\n",
    "regress_values = x_values * slope + intercept\n",
    "line_eq = \"y = \" + str(round(slope,2)) + \"x + \" + str(round(intercept,2))\n",
    "plt.plot(x_values,regress_values,\"r-\")\n",
    "plt.annotate(line_eq,(20,50),fontsize=15,color=\"red\")\n",
    "print(f\"The r-squared is: {rvalue**2}\")\n",
    "plt.savefig(\"../output_data/Latitude vs Temperature Southern Hem with Regression line Plot.png\")\n",
    "plt.show()"
   ]
  },
  {
   "cell_type": "code",
   "execution_count": 30,
   "metadata": {},
   "outputs": [
    {
     "name": "stdout",
     "output_type": "stream",
     "text": [
      "There is a moderate to strong relationship here stating that the closer you get to the equator, the higher the max temperature for both the Northern and Southern Hemisphere's.\n"
     ]
    }
   ],
   "source": [
    "print(\"There is a moderate to strong relationship here stating that the closer you get to the equator, the higher the max temperature for both the Northern and Southern Hemisphere's.\")"
   ]
  },
  {
   "cell_type": "code",
   "execution_count": null,
   "metadata": {},
   "outputs": [],
   "source": []
  },
  {
   "cell_type": "markdown",
   "metadata": {},
   "source": [
    "####  Northern Hemisphere - Humidity (%) vs. Latitude Linear Regression"
   ]
  },
  {
   "cell_type": "code",
   "execution_count": 31,
   "metadata": {},
   "outputs": [
    {
     "name": "stdout",
     "output_type": "stream",
     "text": [
      "The r-squared is: 0.002384611639774265\n"
     ]
    },
    {
     "data": {
      "image/png": "[encoded data removed]",
      "text/plain": [
       "<Figure size 432x288 with 1 Axes>"
      ]
     },
     "metadata": {
      "needs_background": "light"
     },
     "output_type": "display_data"
    }
   ],
   "source": [
    "plt.scatter(citi_info_north[\"Lat\"],citi_info_north[\"Humidity\"], marker=\"o\", facecolors=\"blue\", edgecolors=\"black\",\n",
    "             alpha=0.75)\n",
    "x_values = citi_info_north[\"Lat\"]\n",
    "y_values = citi_info_north[\"Humidity\"]\n",
    "plt.xlim(-10, 85)\n",
    "plt.ylim(0, 110)\n",
    "plt.grid()\n",
    "plt.title(\"Northern Hemisphere - Humidity vs. Latitude Linear Regression 7/17/20\")\n",
    "plt.xlabel(\"Latitude\")\n",
    "plt.ylabel(\"Humidity\")\n",
    "(slope, intercept, rvalue, pvalue, stderr) = linregress(x_values, y_values)\n",
    "regress_values = x_values * slope + intercept\n",
    "line_eq = \"y = \" + str(round(slope,2)) + \"x + \" + str(round(intercept,2))\n",
    "plt.plot(x_values,regress_values,\"r-\")\n",
    "plt.annotate(line_eq,(20,50),fontsize=15,color=\"red\")\n",
    "print(f\"The r-squared is: {rvalue**2}\")\n",
    "plt.savefig(\"../output_data/Latitude vs Humidity Northern Hem with Regression line Plot.png\")\n",
    "plt.show()"
   ]
  },
  {
   "cell_type": "markdown",
   "metadata": {},
   "source": [
    "####  Southern Hemisphere - Humidity (%) vs. Latitude Linear Regression"
   ]
  },
  {
   "cell_type": "code",
   "execution_count": 32,
   "metadata": {},
   "outputs": [
    {
     "name": "stdout",
     "output_type": "stream",
     "text": [
      "The r-squared is: 0.018369738885500465\n"
     ]
    },
    {
     "data": {
      "image/png": "[encoded data removed]",
      "text/plain": [
       "<Figure size 432x288 with 1 Axes>"
      ]
     },
     "metadata": {
      "needs_background": "light"
     },
     "output_type": "display_data"
    }
   ],
   "source": [
    "plt.scatter(citi_info_south[\"Lat\"],citi_info_south[\"Humidity\"], marker=\"o\", facecolors=\"blue\", edgecolors=\"black\",\n",
    "             alpha=0.75)\n",
    "x_values = citi_info_south[\"Lat\"]\n",
    "y_values = citi_info_south[\"Humidity\"]\n",
    "plt.xlim(-60, 10)\n",
    "plt.ylim(0, 110)\n",
    "plt.grid()\n",
    "plt.title(\"Southern Hemisphere - Humidity vs. Latitude Linear Regression 7/17/20\")\n",
    "plt.xlabel(\"Latitude\")\n",
    "plt.ylabel(\"Humidity\")\n",
    "(slope, intercept, rvalue, pvalue, stderr) = linregress(x_values, y_values)\n",
    "regress_values = x_values * slope + intercept\n",
    "line_eq = \"y = \" + str(round(slope,2)) + \"x + \" + str(round(intercept,2))\n",
    "plt.plot(x_values,regress_values,\"r-\")\n",
    "plt.annotate(line_eq,(-50,20),fontsize=15,color=\"red\")\n",
    "print(f\"The r-squared is: {rvalue**2}\")\n",
    "plt.savefig(\"../output_data/Latitude vs Humidity Southern Hem with Regression line Plot.png\")\n",
    "plt.show()"
   ]
  },
  {
   "cell_type": "code",
   "execution_count": 33,
   "metadata": {},
   "outputs": [
    {
     "name": "stdout",
     "output_type": "stream",
     "text": [
      "These scatter plots of Latitude and Humidity show that there is virtully no relationship between the two for both Hemisphere's\n"
     ]
    }
   ],
   "source": [
    "print(\"These scatter plots of Latitude and Humidity show that there is virtully no relationship between the two for both Hemisphere's\")"
   ]
  },
  {
   "cell_type": "markdown",
   "metadata": {},
   "source": [
    "####  Northern Hemisphere - Cloudiness (%) vs. Latitude Linear Regression"
   ]
  },
  {
   "cell_type": "code",
   "execution_count": 34,
   "metadata": {},
   "outputs": [
    {
     "name": "stdout",
     "output_type": "stream",
     "text": [
      "The r-squared is: 0.0018152425936451633\n"
     ]
    },
    {
     "data": {
      "image/png": "[encoded data removed]",
      "text/plain": [
       "<Figure size 432x288 with 1 Axes>"
      ]
     },
     "metadata": {
      "needs_background": "light"
     },
     "output_type": "display_data"
    }
   ],
   "source": [
    "plt.scatter(citi_info_north[\"Lat\"],citi_info_north[\"Cloudiness\"], marker=\"o\", facecolors=\"blue\", edgecolors=\"black\",\n",
    "             alpha=0.75)\n",
    "x_values = citi_info_north[\"Lat\"]\n",
    "y_values = citi_info_north[\"Cloudiness\"]\n",
    "plt.xlim(-5, 85)\n",
    "plt.ylim(-5, 110)\n",
    "plt.grid()\n",
    "plt.title(\"Northern Hemisphere - Cloudiness vs. Latitude Linear Regression 7/17/20\")\n",
    "plt.xlabel(\"Latitude\")\n",
    "plt.ylabel(\"cloudiness\")\n",
    "(slope, intercept, rvalue, pvalue, stderr) = linregress(x_values, y_values)\n",
    "regress_values = x_values * slope + intercept\n",
    "line_eq = \"y = \" + str(round(slope,2)) + \"x + \" + str(round(intercept,2))\n",
    "plt.plot(x_values,regress_values,\"r-\")\n",
    "plt.annotate(line_eq,(20,50),fontsize=15,color=\"red\")\n",
    "print(f\"The r-squared is: {rvalue**2}\")\n",
    "plt.savefig(\"../output_data/Latitude vs Cloudiness Northern Hem with Regression line Plot.png\")\n",
    "plt.show()"
   ]
  },
  {
   "cell_type": "markdown",
   "metadata": {},
   "source": [
    "####  Southern Hemisphere - Cloudiness (%) vs. Latitude Linear Regression"
   ]
  },
  {
   "cell_type": "code",
   "execution_count": 35,
   "metadata": {},
   "outputs": [
    {
     "name": "stdout",
     "output_type": "stream",
     "text": [
      "The r-squared is: 0.02409641425215518\n"
     ]
    },
    {
     "data": {
      "image/png": "[encoded data removed]",
      "text/plain": [
       "<Figure size 432x288 with 1 Axes>"
      ]
     },
     "metadata": {
      "needs_background": "light"
     },
     "output_type": "display_data"
    }
   ],
   "source": [
    "plt.scatter(citi_info_south[\"Lat\"],citi_info_south[\"Cloudiness\"], marker=\"o\", facecolors=\"blue\", edgecolors=\"black\",\n",
    "             alpha=0.75)\n",
    "x_values = citi_info_south[\"Lat\"]\n",
    "y_values = citi_info_south[\"Cloudiness\"]\n",
    "plt.xlim(-60, 10)\n",
    "plt.ylim(-5, 110)\n",
    "plt.grid()\n",
    "plt.title(\"Southern Hemisphere - Cloudiness vs. Latitude Linear Regression 7/17/20\")\n",
    "plt.xlabel(\"Latitude\")\n",
    "plt.ylabel(\"Cloudiness\")\n",
    "(slope, intercept, rvalue, pvalue, stderr) = linregress(x_values, y_values)\n",
    "regress_values = x_values * slope + intercept\n",
    "line_eq = \"y = \" + str(round(slope,2)) + \"x + \" + str(round(intercept,2))\n",
    "plt.plot(x_values,regress_values,\"r-\")\n",
    "plt.annotate(line_eq,(-50,30),fontsize=15,color=\"red\")\n",
    "print(f\"The r-squared is: {rvalue**2}\")\n",
    "plt.savefig(\"../output_data/Latitude vs Cloudiness Southern Hem with Regression line Plot.png\")\n",
    "plt.show()"
   ]
  },
  {
   "cell_type": "code",
   "execution_count": 36,
   "metadata": {},
   "outputs": [
    {
     "name": "stdout",
     "output_type": "stream",
     "text": [
      "These scatter plots of Latitude and Cloudiness show that there is a very week relationship between the two for both Hemisphere's\n"
     ]
    }
   ],
   "source": [
    "print(\"These scatter plots of Latitude and Cloudiness show that there is a very week relationship between the two for both Hemisphere's\")"
   ]
  },
  {
   "cell_type": "markdown",
   "metadata": {},
   "source": [
    "####  Northern Hemisphere - Wind Speed (mph) vs. Latitude Linear Regression"
   ]
  },
  {
   "cell_type": "code",
   "execution_count": 37,
   "metadata": {},
   "outputs": [
    {
     "name": "stdout",
     "output_type": "stream",
     "text": [
      "The r-squared is: 0.007000858105930002\n"
     ]
    },
    {
     "data": {
      "image/png": "[encoded data removed]",
      "text/plain": [
       "<Figure size 432x288 with 1 Axes>"
      ]
     },
     "metadata": {
      "needs_background": "light"
     },
     "output_type": "display_data"
    }
   ],
   "source": [
    "plt.scatter(citi_info_north[\"Lat\"],citi_info_north[\"Wind Speed\"], marker=\"o\", facecolors=\"blue\", edgecolors=\"black\",\n",
    "             alpha=0.75)\n",
    "x_values = citi_info_north[\"Lat\"]\n",
    "y_values = citi_info_north[\"Wind Speed\"]\n",
    "plt.xlim(-5, 85)\n",
    "plt.ylim(-5, 40)\n",
    "plt.grid()\n",
    "plt.title(\"Northern Hemisphere - Wind Speed vs. Latitude Linear Regression 7/17/20\")\n",
    "plt.xlabel(\"Latitude\")\n",
    "plt.ylabel(\"Wind Speed\")\n",
    "(slope, intercept, rvalue, pvalue, stderr) = linregress(x_values, y_values)\n",
    "regress_values = x_values * slope + intercept\n",
    "line_eq = \"y = \" + str(round(slope,2)) + \"x + \" + str(round(intercept,2))\n",
    "plt.plot(x_values,regress_values,\"r-\")\n",
    "plt.annotate(line_eq,(20,35),fontsize=15,color=\"red\")\n",
    "print(f\"The r-squared is: {rvalue**2}\")\n",
    "plt.savefig(\"../output_data/Latitude vs Wind Speed Northern Hem with Regression line Plot.png\")\n",
    "plt.show()"
   ]
  },
  {
   "cell_type": "markdown",
   "metadata": {},
   "source": [
    "####  Southern Hemisphere - Wind Speed (mph) vs. Latitude Linear Regression"
   ]
  },
  {
   "cell_type": "code",
   "execution_count": 38,
   "metadata": {},
   "outputs": [
    {
     "name": "stdout",
     "output_type": "stream",
     "text": [
      "The r-squared is: 0.0027297729143744625\n"
     ]
    },
    {
     "data": {
      "image/png": "[encoded data removed]",
      "text/plain": [
       "<Figure size 432x288 with 1 Axes>"
      ]
     },
     "metadata": {
      "needs_background": "light"
     },
     "output_type": "display_data"
    }
   ],
   "source": [
    "plt.scatter(citi_info_south[\"Lat\"],citi_info_south[\"Wind Speed\"], marker=\"o\", facecolors=\"blue\", edgecolors=\"black\",\n",
    "             alpha=0.75)\n",
    "x_values = citi_info_south[\"Lat\"]\n",
    "y_values = citi_info_south[\"Wind Speed\"]\n",
    "plt.xlim(-60, 5)\n",
    "plt.ylim(-5, 25)\n",
    "plt.grid()\n",
    "plt.title(\"Southern Hemisphere - Wind Speed vs. Latitude Linear Regression 7/17/20\")\n",
    "plt.xlabel(\"Latitude\")\n",
    "plt.ylabel(\"Wind Speed\")\n",
    "(slope, intercept, rvalue, pvalue, stderr) = linregress(x_values, y_values)\n",
    "regress_values = x_values * slope + intercept\n",
    "line_eq = \"y = \" + str(round(slope,2)) + \"x + \" + str(round(intercept,2))\n",
    "plt.plot(x_values,regress_values,\"r-\")\n",
    "plt.annotate(line_eq,(-50,20),fontsize=15,color=\"red\")\n",
    "print(f\"The r-squared is: {rvalue**2}\")\n",
    "plt.savefig(\"../output_data/Latitude vs Wind Speed Southern Hem with Regression line Plot.png\")\n",
    "plt.show()"
   ]
  },
  {
   "cell_type": "code",
   "execution_count": 39,
   "metadata": {},
   "outputs": [
    {
     "name": "stdout",
     "output_type": "stream",
     "text": [
      "These scatter plots of Latitude and Wind Speed show that there is a very week relationship between the two for both Hemisphere's\n"
     ]
    }
   ],
   "source": [
    "print(\"These scatter plots of Latitude and Wind Speed show that there is a very week relationship between the two for both Hemisphere's\")"
   ]
  }
 ],
 "metadata": {
  "anaconda-cloud": {},
  "kernel_info": {
   "name": "python3"
  },
  "kernelspec": {
   "display_name": "Python 3",
   "language": "python",
   "name": "python3"
  },
  "language_info": {
   "codemirror_mode": {
    "name": "ipython",
    "version": 3
   },
   "file_extension": ".py",
   "mimetype": "text/x-python",
   "name": "python",
   "nbconvert_exporter": "python",
   "pygments_lexer": "ipython3",
   "version": "3.7.6"
  },
  "latex_envs": {
   "LaTeX_envs_menu_present": true,
   "autoclose": false,
   "autocomplete": true,
   "bibliofile": "biblio.bib",
   "cite_by": "apalike",
   "current_citInitial": 1,
   "eqLabelWithNumbers": true,
   "eqNumInitial": 1,
   "hotkeys": {
    "equation": "Ctrl-E",
    "itemize": "Ctrl-I"
   },
   "labels_anchors": false,
   "latex_user_defs": false,
   "report_style_numbering": false,
   "user_envs_cfg": false
  },
  "nteract": {
   "version": "0.12.3"
  }
 },
 "nbformat": 4,
 "nbformat_minor": 2
}
